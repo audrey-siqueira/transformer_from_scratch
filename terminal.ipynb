{
 "cells": [
  {
   "cell_type": "code",
   "execution_count": 2,
   "id": "9ded8c63-856d-4205-8792-0bededc37d23",
   "metadata": {
    "execution": {
     "iopub.execute_input": "2025-08-21T02:59:12.593098Z",
     "iopub.status.busy": "2025-08-21T02:59:12.592786Z",
     "iopub.status.idle": "2025-08-21T02:59:19.320805Z",
     "shell.execute_reply": "2025-08-21T02:59:19.320167Z",
     "shell.execute_reply.started": "2025-08-21T02:59:12.593075Z"
    }
   },
   "outputs": [
    {
     "name": "stdout",
     "output_type": "stream",
     "text": [
      "Hit:1 http://archive.ubuntu.com/ubuntu jammy InRelease\n",
      "Hit:2 http://security.ubuntu.com/ubuntu jammy-security InRelease\n",
      "Hit:3 http://archive.ubuntu.com/ubuntu jammy-updates InRelease\n",
      "Hit:4 http://archive.ubuntu.com/ubuntu jammy-backports InRelease\n",
      "Reading package lists... Done\n",
      "Building dependency tree... Done\n",
      "Reading state information... Done\n",
      "22 packages can be upgraded. Run 'apt list --upgradable' to see them.\n",
      "Reading package lists... Done\n",
      "Building dependency tree... Done\n",
      "Reading state information... Done\n",
      "libcairo2-dev is already the newest version (1.16.0-5ubuntu2).\n",
      "texlive is already the newest version (2021.20220204-1).\n",
      "texlive-fonts-extra is already the newest version (2021.20220204-1).\n",
      "texlive-latex-extra is already the newest version (2021.20220204-1).\n",
      "texlive-latex-recommended is already the newest version (2021.20220204-1).\n",
      "texlive-science is already the newest version (2021.20220204-1).\n",
      "tipa is already the newest version (2:1.3-21).\n",
      "libpango1.0-dev is already the newest version (1.50.6+ds-2ubuntu1).\n",
      "0 upgraded, 0 newly installed, 0 to remove and 22 not upgraded.\n",
      "Requirement already satisfied: manim in /opt/conda/lib/python3.12/site-packages (0.19.0)\n",
      "Requirement already satisfied: Pillow>=9.1 in /opt/conda/lib/python3.12/site-packages (from manim) (11.3.0)\n",
      "Requirement already satisfied: Pygments>=2.0.0 in /opt/conda/lib/python3.12/site-packages (from manim) (2.19.2)\n",
      "Requirement already satisfied: av<14.0.0,>=9.0.0 in /opt/conda/lib/python3.12/site-packages (from manim) (13.1.0)\n",
      "Requirement already satisfied: beautifulsoup4>=4.12 in /opt/conda/lib/python3.12/site-packages (from manim) (4.13.4)\n",
      "Requirement already satisfied: click>=8.0 in /opt/conda/lib/python3.12/site-packages (from manim) (8.2.1)\n",
      "Requirement already satisfied: cloup>=2.0.0 in /opt/conda/lib/python3.12/site-packages (from manim) (3.0.8)\n",
      "Requirement already satisfied: decorator>=4.3.2 in /opt/conda/lib/python3.12/site-packages (from manim) (5.2.1)\n",
      "Requirement already satisfied: isosurfaces>=0.1.0 in /opt/conda/lib/python3.12/site-packages (from manim) (0.1.2)\n",
      "Requirement already satisfied: manimpango<1.0.0,>=0.5.0 in /opt/conda/lib/python3.12/site-packages (from manim) (0.6.0)\n",
      "Requirement already satisfied: mapbox-earcut>=1.0.0 in /opt/conda/lib/python3.12/site-packages (from manim) (1.0.3)\n",
      "Requirement already satisfied: moderngl<6.0.0,>=5.0.0 in /opt/conda/lib/python3.12/site-packages (from manim) (5.12.0)\n",
      "Requirement already satisfied: moderngl-window>=2.0.0 in /opt/conda/lib/python3.12/site-packages (from manim) (3.1.1)\n",
      "Requirement already satisfied: networkx>=2.6 in /opt/conda/lib/python3.12/site-packages (from manim) (3.5)\n",
      "Requirement already satisfied: numpy>=2.1 in /opt/conda/lib/python3.12/site-packages (from manim) (2.3.2)\n",
      "Requirement already satisfied: pycairo<2.0.0,>=1.13 in /opt/conda/lib/python3.12/site-packages (from manim) (1.28.0)\n",
      "Requirement already satisfied: pydub>=0.20.0 in /opt/conda/lib/python3.12/site-packages (from manim) (0.25.1)\n",
      "Requirement already satisfied: rich>=12.0.0 in /opt/conda/lib/python3.12/site-packages (from manim) (13.9.4)\n",
      "Requirement already satisfied: scipy>=1.13.0 in /opt/conda/lib/python3.12/site-packages (from manim) (1.15.2)\n",
      "Requirement already satisfied: screeninfo>=0.7 in /opt/conda/lib/python3.12/site-packages (from manim) (0.8.1)\n",
      "Requirement already satisfied: skia-pathops>=0.7.0 in /opt/conda/lib/python3.12/site-packages (from manim) (0.8.0.post2)\n",
      "Requirement already satisfied: srt>=3.0.0 in /opt/conda/lib/python3.12/site-packages (from manim) (3.5.3)\n",
      "Requirement already satisfied: svgelements>=1.8.0 in /opt/conda/lib/python3.12/site-packages (from manim) (1.9.6)\n",
      "Requirement already satisfied: tqdm>=4.0.0 in /opt/conda/lib/python3.12/site-packages (from manim) (4.67.1)\n",
      "Requirement already satisfied: typing-extensions>=4.0.0 in /opt/conda/lib/python3.12/site-packages (from manim) (4.14.1)\n",
      "Requirement already satisfied: watchdog>=2.0.0 in /opt/conda/lib/python3.12/site-packages (from manim) (6.0.0)\n",
      "Requirement already satisfied: glcontext>=3.0.0 in /opt/conda/lib/python3.12/site-packages (from moderngl<6.0.0,>=5.0.0->manim) (3.0.0)\n",
      "Requirement already satisfied: soupsieve>1.2 in /opt/conda/lib/python3.12/site-packages (from beautifulsoup4>=4.12->manim) (2.7)\n",
      "Requirement already satisfied: pyglet>=2.0.0 in /opt/conda/lib/python3.12/site-packages (from moderngl-window>=2.0.0->manim) (2.1.8)\n",
      "Requirement already satisfied: pyglm<3,>=2.7.0 in /opt/conda/lib/python3.12/site-packages (from moderngl-window>=2.0.0->manim) (2.8.2)\n",
      "Requirement already satisfied: markdown-it-py>=2.2.0 in /opt/conda/lib/python3.12/site-packages (from rich>=12.0.0->manim) (3.0.0)\n",
      "Requirement already satisfied: mdurl~=0.1 in /opt/conda/lib/python3.12/site-packages (from markdown-it-py>=2.2.0->rich>=12.0.0->manim) (0.1.2)\n",
      "Requirement already satisfied: IPython==8.21.0 in /opt/conda/lib/python3.12/site-packages (8.21.0)\n",
      "Requirement already satisfied: decorator in /opt/conda/lib/python3.12/site-packages (from IPython==8.21.0) (5.2.1)\n",
      "Requirement already satisfied: jedi>=0.16 in /opt/conda/lib/python3.12/site-packages (from IPython==8.21.0) (0.19.2)\n",
      "Requirement already satisfied: matplotlib-inline in /opt/conda/lib/python3.12/site-packages (from IPython==8.21.0) (0.1.7)\n",
      "Requirement already satisfied: prompt-toolkit<3.1.0,>=3.0.41 in /opt/conda/lib/python3.12/site-packages (from IPython==8.21.0) (3.0.51)\n",
      "Requirement already satisfied: pygments>=2.4.0 in /opt/conda/lib/python3.12/site-packages (from IPython==8.21.0) (2.19.2)\n",
      "Requirement already satisfied: stack-data in /opt/conda/lib/python3.12/site-packages (from IPython==8.21.0) (0.6.3)\n",
      "Requirement already satisfied: traitlets>=5 in /opt/conda/lib/python3.12/site-packages (from IPython==8.21.0) (5.14.3)\n",
      "Requirement already satisfied: pexpect>4.3 in /opt/conda/lib/python3.12/site-packages (from IPython==8.21.0) (4.9.0)\n",
      "Requirement already satisfied: wcwidth in /opt/conda/lib/python3.12/site-packages (from prompt-toolkit<3.1.0,>=3.0.41->IPython==8.21.0) (0.2.13)\n",
      "Requirement already satisfied: parso<0.9.0,>=0.8.4 in /opt/conda/lib/python3.12/site-packages (from jedi>=0.16->IPython==8.21.0) (0.8.4)\n",
      "Requirement already satisfied: ptyprocess>=0.5 in /opt/conda/lib/python3.12/site-packages (from pexpect>4.3->IPython==8.21.0) (0.7.0)\n",
      "Requirement already satisfied: executing>=1.2.0 in /opt/conda/lib/python3.12/site-packages (from stack-data->IPython==8.21.0) (2.2.0)\n",
      "Requirement already satisfied: asttokens>=2.1.0 in /opt/conda/lib/python3.12/site-packages (from stack-data->IPython==8.21.0) (3.0.0)\n",
      "Requirement already satisfied: pure_eval in /opt/conda/lib/python3.12/site-packages (from stack-data->IPython==8.21.0) (0.2.3)\n"
     ]
    }
   ],
   "source": [
    "!sudo apt update -y\n",
    "!sudo apt install -y libcairo2-dev \\\n",
    "    texlive texlive-latex-extra texlive-fonts-extra \\\n",
    "    texlive-latex-recommended texlive-science \\\n",
    "    tipa libpango1.0-dev\n",
    "!pip install manim\n",
    "!pip install IPython==8.21.0\n",
    "\n",
    "#!pip install -r requirements.txt\n",
    "\n",
    "#!pip install ffmpeg-python"
   ]
  },
  {
   "cell_type": "code",
   "execution_count": null,
   "id": "6625a3c5-3db7-444c-a813-e7cce0ab7309",
   "metadata": {},
   "outputs": [],
   "source": [
    "!python pipeline.py"
   ]
  },
  {
   "cell_type": "code",
   "execution_count": null,
   "id": "e39f87ad-5bfb-46cf-a700-0ee6ad8ce018",
   "metadata": {},
   "outputs": [],
   "source": []
  }
 ],
 "metadata": {
  "kernelspec": {
   "display_name": "Python 3 (ipykernel)",
   "language": "python",
   "name": "python3"
  },
  "language_info": {
   "codemirror_mode": {
    "name": "ipython",
    "version": 3
   },
   "file_extension": ".py",
   "mimetype": "text/x-python",
   "name": "python",
   "nbconvert_exporter": "python",
   "pygments_lexer": "ipython3",
   "version": "3.12.9"
  }
 },
 "nbformat": 4,
 "nbformat_minor": 5
}
