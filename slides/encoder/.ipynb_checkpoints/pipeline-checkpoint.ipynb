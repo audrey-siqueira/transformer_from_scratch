{
 "cells": [
  {
   "cell_type": "code",
   "execution_count": null,
   "id": "ab535708-10c6-44cb-97b5-09d2d796c809",
   "metadata": {},
   "outputs": [],
   "source": [
    "import time\n",
    "from manim import *\n",
    "\n",
    "files = [\n",
    "    \"01-InputEmbedding.py\",\n",
    "    \"02-PositionalEncoding.py\",\n",
    "    \"03-TotalInput.py\",\n",
    "    \"04-MA_Normalization.py\",\n",
    "    \"05-MA_weights.py\",\n",
    "    \"06-MA_heads.py\",\n",
    "    \"07-MA_softmax.py\",\n",
    "    \"08-MA_values.py\",\n",
    "    \"09-MA_output.py\",\n",
    "    \"10-MA_Residual_Add.py\",\n",
    "    \"11-NN_Normalization.py\",\n",
    "    \"12-NN_layer_1_weights.py\",\n",
    "    \"13-NN_layer_1_output.py\",\n",
    "    \"14-NN_layer_2_weights.py\",\n",
    "    \"15-NN_Residual_Add.py\",\n",
    "    \"16-Encoder_Normalization.py\"\n",
    "]\n",
    "\n",
    "start = time.time()\n",
    "\n",
    "for file in files:\n",
    "    print(f\"🎬 Renderizando {file}...\")\n",
    "    !manim -qh -v WARNING \"{file}\" generate\n",
    "\n",
    "end = time.time()\n",
    "print(f\"\\n⏱ Tempo total: {end - start:.2f} segundos\")\n"
   ]
  },
  {
   "cell_type": "code",
   "execution_count": 3,
   "id": "61c99474-8dfb-429a-be90-151f1d1b890c",
   "metadata": {
    "execution": {
     "iopub.execute_input": "2025-08-13T16:09:28.755858Z",
     "iopub.status.busy": "2025-08-13T16:09:28.755545Z",
     "iopub.status.idle": "2025-08-13T16:09:29.686990Z",
     "shell.execute_reply": "2025-08-13T16:09:29.686422Z",
     "shell.execute_reply.started": "2025-08-13T16:09:28.755838Z"
    }
   },
   "outputs": [
    {
     "name": "stderr",
     "output_type": "stream",
     "text": [
      "/opt/conda/lib/python3.12/site-packages/pydub/utils.py:170: RuntimeWarning: Couldn't find ffmpeg or avconv - defaulting to ffmpeg, but may not work\n",
      "  warn(\"Couldn't find ffmpeg or avconv - defaulting to ffmpeg, but may not work\", RuntimeWarning)\n"
     ]
    }
   ],
   "source": [
    "from manim import *\n",
    "import math\n",
    "from variables import *\n",
    "\n",
    "import sys\n",
    "sys.path.append(\"..\") \n",
    "from manim_functions import *"
   ]
  },
  {
   "cell_type": "code",
   "execution_count": 4,
   "id": "0d34cc70-4bec-4485-9039-f9398cdec123",
   "metadata": {
    "execution": {
     "iopub.execute_input": "2025-08-13T16:09:34.098094Z",
     "iopub.status.busy": "2025-08-13T16:09:34.097623Z",
     "iopub.status.idle": "2025-08-13T16:11:53.182671Z",
     "shell.execute_reply": "2025-08-13T16:11:53.182141Z",
     "shell.execute_reply.started": "2025-08-13T16:09:34.098072Z"
    }
   },
   "outputs": [
    {
     "data": {
      "text/html": [
       "<pre style=\"white-space:pre;overflow-x:auto;line-height:normal;font-family:Menlo,'DejaVu Sans Mono',consolas,'Courier New',monospace\">Manim Community <span style=\"color: #008000; text-decoration-color: #008000\">v0.19.0</span>\n",
       "\n",
       "</pre>\n"
      ],
      "text/plain": [
       "Manim Community \u001b[32mv0.\u001b[0m\u001b[32m19.0\u001b[0m\n",
       "\n"
      ]
     },
     "metadata": {},
     "output_type": "display_data"
    },
    {
     "name": "stderr",
     "output_type": "stream",
     "text": [
      "                                                                                                                                                                       "
     ]
    },
    {
     "data": {
      "text/html": [
       "<video src=\"media/jupyter/generate@2025-08-13@16-11-53.mp4\" controls autoplay loop style=\"max-width: 60%;\"  >\n",
       "      Your browser does not support the <code>video</code> element.\n",
       "    </video>"
      ],
      "text/plain": [
       "<IPython.core.display.Video object>"
      ]
     },
     "metadata": {},
     "output_type": "display_data"
    }
   ],
   "source": [
    "%%manim -ql -v WARNING generate\n",
    "\n",
    "\n",
    "class generate(Scene):\n",
    "    def construct(self):\n",
    "        self.camera.background_color = BLACK\n",
    "\n",
    "        formula = MathTex(r\"\\text{Normalization(x)} = \\alpha \\cdot \\frac{x - \\mu}{\\sigma + \\varepsilon} + \\text{bias}\",\n",
    "                          color=WHITE).scale(0.7).to_edge(UP + LEFT)\n",
    "        \n",
    "\n",
    "        explanation = MathTex(r\"\\text{where:} \\quad \\varepsilon = 10^{-6}\",\n",
    "                              color=WHITE).scale(0.6).next_to(formula, RIGHT, buff= 5.5)\n",
    "\n",
    "        self.play(Write(formula))\n",
    "        self.play(Write(explanation))\n",
    "       \n",
    "\n",
    "        #tEncoder Output\n",
    "        dic = { \"matrix\":  {\"values\": residual_output_2[0]      ,\"scale\": 0.35, \"color\": WHITE},\n",
    "                \"title\":   {\"string\": \"\\\\text{Encoder Output}\"  , \"scale\": 0.35, \"color\": WHITE},\n",
    "                \"label_x\": {\"string\": \"Embedding Dimensions\"    , \"scale\": 0.35, \"color\": WHITE, \"value\": d_model},\n",
    "                \"label_y\": {\"string\": \"Tokens\"                  , \"scale\": 0.35, \"color\": WHITE, \"value\": len(input_x)}\n",
    "              }\n",
    "        group_1 = build_matrix(self,dic,f=True)\n",
    "        group_1.to_edge(LEFT*0.2 + UP*7, buff=0.4)\n",
    "        self.play(Write(group_1))\n",
    "\n",
    "\n",
    "        #arrow\n",
    "        arrow = MathTex(r\"\\longrightarrow\", color=WHITE).scale(0.6).move_to(group_1[0].get_center()  + RIGHT*2.1)  \n",
    "        label = Text(\"Normalize\").scale(0.15).set_color(WHITE).next_to(arrow, UP, buff=0.1)\n",
    "        self.play(Write(arrow), Write(label))\n",
    "        \n",
    "        target = arrow.get_center()\n",
    "  \n",
    "        animations = []\n",
    "        norm_matrix = []\n",
    "        for r, row_mobj in enumerate(group_1[0].get_rows()):\n",
    "            row_vals = np.array([float(el.get_tex_string()) for el in row_mobj])\n",
    "            row_vals = np.array(row_vals, dtype=np.float64)\n",
    "            row = VGroup(*row_mobj).copy().set_color(BLACK).move_to(target + RIGHT*1.5)\n",
    "\n",
    "            mean_val = np.mean(row_vals,dtype=np.float64)\n",
    "            num_str = \" + \".join([f\"{x:.4f}\" for x in row_vals])\n",
    "            mean_calc = MathTex(r\"\\mu = \\frac{\" + num_str + \"}{\" + str(len(row_vals)) + \"} = \" + f\"{mean_val:.4f}\", color=PURE_RED)\n",
    "            mean_calc.scale(0.4).next_to(target, RIGHT + UP*3, buff=0.4)\n",
    "\n",
    "\n",
    "            std_val = np.std(row_vals, ddof=1, dtype=np.float64)  \n",
    "            diff_squares = [(x - mean_val)**2 for x in row_vals]\n",
    "            diff_squares_str = \" + \".join([f\"({x:.4f} - {mean_val:.4f})^2\" for x in row_vals])\n",
    "        \n",
    "            std_calc = MathTex(r\"\\sigma = \\sqrt{\\frac{\" + diff_squares_str + r\"}{\" + str(len(row_vals)) + r\"-1}}\" + \" = \" + f\"{std_val:.4f}\",color=PURE_GREEN)\n",
    "            std_calc.scale(0.4).next_to(target, RIGHT + DOWN*0.5, buff=0.4)\n",
    "       \n",
    "\n",
    "            anim_elements = [mean_calc , std_calc]\n",
    "            group = VGroup(*anim_elements)\n",
    "            self.play(Write(group))\n",
    "\n",
    "\n",
    "            E = 0.000001\n",
    "            norm_row = []\n",
    "            for i, x in enumerate(row_vals):                \n",
    "                norm_val = (x - mean_val) / (std_val + E) \n",
    "                norm_expr = MathTex( r\"\\text{Norm}(x_{\" + str(i+1) + r\"}) = \" +f\"\\\\frac{{{x:.4f} - {mean_val:.4f}}}{{{std_val:.4f} + {E}}}  = {norm_val:.4f}\",color=WHITE)\n",
    "                norm_expr.scale(0.4).next_to(target, RIGHT + DOWN*5, buff=0.4)            \n",
    "                sub_group = VGroup(norm_expr)\n",
    "                self.play(Write(sub_group))\n",
    "                self.play(FadeOut(sub_group, run_time=3))\n",
    "\n",
    "                norm_row.append(float(norm_val))\n",
    "\n",
    "            norm_matrix.append(norm_row)\n",
    "    \n",
    "            self.play(FadeOut(group))\n",
    "\n",
    "\n",
    "        #partial norm\n",
    "        dic = { \"matrix\":  {\"values\": norm_matrix                          ,\"scale\": 0.35, \"color\": WHITE},\n",
    "                \"title\":   {\"string\": \"\\\\text{Partial Normalization}\"     , \"scale\": 0.35, \"color\": WHITE},\n",
    "                \"label_x\": {\"string\": \"Embedding Dimensions\"               , \"scale\": 0.35, \"color\": WHITE, \"value\": d_model},\n",
    "                \"label_y\": {\"string\": \"Tokens\"                             , \"scale\": 0.35, \"color\": WHITE, \"value\": len(input_x)}\n",
    "              }\n",
    "        group_2 = build_matrix(self,dic,f=True)\n",
    "        group_2.next_to(group_1,RIGHT*3.3, buff=0.4)\n",
    "        self.play(Write(group_2))\n",
    "\n",
    "\n",
    "\n",
    "        #multiple\n",
    "        times = MathTex(r\"\\times\", color=WHITE).scale(0.7).next_to(group_2[0], UP, buff=0.7)\n",
    "        self.play(Write(times))\n",
    "\n",
    "\n",
    "        #Alpha\n",
    "        formatted_vector = [[f\"{num:.4f}\" for num in alpha_3]]\n",
    "        vector = Matrix(formatted_vector, h_buff=2).scale(0.35).set_color(YELLOW).next_to(times, UP, buff=0.2)\n",
    "        label_vector = Tex(\"Alpha\", color=YELLOW).scale(0.35).next_to(vector, UP*0.5)\n",
    "        self.play(Write(vector), Write(label_vector))\n",
    "\n",
    "\n",
    "\n",
    "        #plus\n",
    "        plus = MathTex(r\"+\", color=WHITE).scale(0.6).next_to(group_2[0], DOWN, buff=0.7)\n",
    "        self.play(Write(plus))\n",
    "\n",
    "\n",
    "        #Bias\n",
    "        formatted_vector = [[f\"{num:.4f}\" for num in bias_3]]\n",
    "        vector = Matrix(formatted_vector, h_buff=2).scale(0.35).set_color(YELLOW).next_to(plus, DOWN, buff=0.5)\n",
    "        label_vector = Tex(\"Bias\", color=YELLOW).scale(0.35).next_to(vector, UP*0.5)\n",
    "        self.play(Write(vector), Write(label_vector))\n",
    "\n",
    "\n",
    "        #arrow\n",
    "        arrow = MathTex(r\"\\longrightarrow\", color=WHITE).scale(0.6).move_to(group_2[0].get_center()  + RIGHT*2.1)  \n",
    "        label = Text(\"Normalize\").scale(0.15).set_color(WHITE).next_to(arrow, UP, buff=0.1)\n",
    "        self.play(Write(arrow), Write(label))\n",
    "\n",
    "\n",
    "\n",
    "        #final input\n",
    "        dic = { \"matrix\":  {\"values\": normalized_3[0]                      ,\"scale\": 0.35, \"color\": WHITE},\n",
    "                \"title\":   {\"string\": \"\\\\text{Normalized Encoder Output}\"     , \"scale\": 0.35, \"color\": WHITE},\n",
    "                \"label_x\": {\"string\": \"Embedding Dimensions\"               , \"scale\": 0.35, \"color\": WHITE, \"value\": d_model},\n",
    "                \"label_y\": {\"string\": \"Tokens\"                             , \"scale\": 0.35, \"color\": WHITE, \"value\": len(input_x)}\n",
    "              }\n",
    "        group_3 = build_matrix(self,dic,f=True)\n",
    "        group_3.next_to(group_2,RIGHT*3.3, buff=0.4)\n",
    "        self.play(Write(group_3))\n",
    "\n",
    "      \n",
    "\n",
    "        self.wait(60)"
   ]
  },
  {
   "cell_type": "code",
   "execution_count": null,
   "id": "1ff41525-4a2c-4477-a025-0e7861deeee2",
   "metadata": {},
   "outputs": [],
   "source": []
  }
 ],
 "metadata": {
  "kernelspec": {
   "display_name": "Python 3 (ipykernel)",
   "language": "python",
   "name": "python3"
  },
  "language_info": {
   "codemirror_mode": {
    "name": "ipython",
    "version": 3
   },
   "file_extension": ".py",
   "mimetype": "text/x-python",
   "name": "python",
   "nbconvert_exporter": "python",
   "pygments_lexer": "ipython3",
   "version": "3.12.9"
  }
 },
 "nbformat": 4,
 "nbformat_minor": 5
}
