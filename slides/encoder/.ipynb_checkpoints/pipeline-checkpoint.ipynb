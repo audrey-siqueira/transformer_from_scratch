{
 "cells": [
  {
   "cell_type": "code",
   "execution_count": null,
   "id": "ab535708-10c6-44cb-97b5-09d2d796c809",
   "metadata": {},
   "outputs": [],
   "source": [
    "import time\n",
    "import os\n",
    "import shutil\n",
    "import glob\n",
    "from manim import *\n",
    "\n",
    "# Lista dos arquivos a renderizar\n",
    "files = [\n",
    "    #\"01-InputEmbedding.py\",\n",
    "    \"notes_01.py\",\n",
    "    #\"02-PositionalEncoding.py\",\n",
    "    \"notes_02.py\",\n",
    "    #\"03-TotalInput.py\",\n",
    "    \"notes_03.py\",\n",
    "    #\"04-MA_Normalization.py\",\n",
    "    \"notes_04.py\",\n",
    "    #\"05-MA_weights.py\",\n",
    "    \"notes_05.py\",\n",
    "    #\"06-MA_heads.py\",\n",
    "    \"notes_06.py\",\n",
    "    #\"07-MA_softmax.py\",\n",
    "    \"notes_07.py\",\n",
    "    #\"08-MA_values.py\",\n",
    "    \"notes_08.py\",\n",
    "    #\"09-MA_output.py\",\n",
    "    \"notes_09.py\",\n",
    "    #\"10-MA_Residual_Add.py\",\n",
    "    \"notes_10.py\",\n",
    "    #\"11-NN_Normalization.py\",\n",
    "    \"notes_11.py\",\n",
    "    #\"12-NN_layer_1_weights.py\",\n",
    "    \"notes_12.py\",\n",
    "    #\"13-NN_layer_1_output.py\",\n",
    "    \"notes_13.py\",\n",
    "    #\"14-NN_layer_2_weights.py\",\n",
    "    \"notes_14.py\",\n",
    "    #\"15-NN_Residual_Add.py\",\n",
    "    \"notes_15.py\",\n",
    "    #\"16-Encoder_Normalization.py\",\n",
    "    \"notes_16.py\"\n",
    "]\n",
    "\n",
    "# Pasta única de saída\n",
    "output_dir = \"frames\"\n",
    "os.makedirs(output_dir, exist_ok=True)\n",
    "\n",
    "start = time.time()\n",
    "\n",
    "for file in files:\n",
    "    base = os.path.splitext(os.path.basename(file))[0]  # ex: \"01-InputEmbedding\"\n",
    "    print(f\"🎬 Renderizando {file} em Full HD...\")\n",
    "\n",
    "    # Renderiza em Full HD e salva apenas o último frame\n",
    "    !manim -pqh -r 1920,1080 -v WARNING \"{file}\" generate --save_last_frame\n",
    "\n",
    "    # Busca o PNG gerado automaticamente, independente do nome\n",
    "    pattern = os.path.join(\"media\", \"images\", base, \"generate*.png\")\n",
    "    matches = glob.glob(pattern)\n",
    "\n",
    "    if matches:\n",
    "        generated = matches[0]  # pega o primeiro encontrado\n",
    "        renamed = os.path.join(output_dir, f\"{base}.png\")\n",
    "        shutil.move(generated, renamed)\n",
    "        print(f\"✅ {renamed} salvo\")\n",
    "    else:\n",
    "        print(f\"⚠️ Não encontrei o frame de {file}\")\n",
    "\n",
    "end = time.time()\n",
    "print(f\"\\n⏱ Tempo total: {end - start:.2f} segundos\")\n"
   ]
  },
  {
   "cell_type": "code",
   "execution_count": 1,
   "id": "61c99474-8dfb-429a-be90-151f1d1b890c",
   "metadata": {
    "execution": {
     "iopub.execute_input": "2025-08-21T19:04:29.836367Z",
     "iopub.status.busy": "2025-08-21T19:04:29.836056Z",
     "iopub.status.idle": "2025-08-21T19:04:30.659554Z",
     "shell.execute_reply": "2025-08-21T19:04:30.659030Z",
     "shell.execute_reply.started": "2025-08-21T19:04:29.836345Z"
    }
   },
   "outputs": [
    {
     "name": "stderr",
     "output_type": "stream",
     "text": [
      "/opt/conda/lib/python3.12/site-packages/pydub/utils.py:170: RuntimeWarning: Couldn't find ffmpeg or avconv - defaulting to ffmpeg, but may not work\n",
      "  warn(\"Couldn't find ffmpeg or avconv - defaulting to ffmpeg, but may not work\", RuntimeWarning)\n"
     ]
    }
   ],
   "source": [
    "from manim import *\n",
    "import math\n",
    "from variables import *\n",
    "\n",
    "import sys\n",
    "sys.path.append(\"..\") \n",
    "from manim_functions import *"
   ]
  },
  {
   "cell_type": "code",
   "execution_count": null,
   "id": "0d34cc70-4bec-4485-9039-f9398cdec123",
   "metadata": {},
   "outputs": [],
   "source": [
    "var = \"notes_16\"\n",
    "\n",
    "!manim -pqh -r 1920,1080 -v WARNING {var}.py generate --save_last_frame\n",
    "\n",
    "#from IPython.display import Video\n",
    "#Video(f\"media/videos/{var}/480p15/generate.mp4\", embed=True)\n",
    "\n",
    "from IPython.display import Image, display\n",
    "display(Image(filename=f\"media/images/{var}/generate_ManimCE_v0.19.0.png\"))\n"
   ]
  },
  {
   "cell_type": "code",
   "execution_count": 1,
   "id": "3892289a-3238-4884-978c-ec4247c2da08",
   "metadata": {
    "execution": {
     "iopub.execute_input": "2025-08-21T19:03:29.260906Z",
     "iopub.status.busy": "2025-08-21T19:03:29.260733Z",
     "iopub.status.idle": "2025-08-21T19:03:30.048137Z",
     "shell.execute_reply": "2025-08-21T19:03:30.047612Z",
     "shell.execute_reply.started": "2025-08-21T19:03:29.260888Z"
    }
   },
   "outputs": [
    {
     "name": "stderr",
     "output_type": "stream",
     "text": [
      "/opt/conda/lib/python3.12/site-packages/pydub/utils.py:170: RuntimeWarning: Couldn't find ffmpeg or avconv - defaulting to ffmpeg, but may not work\n",
      "  warn(\"Couldn't find ffmpeg or avconv - defaulting to ffmpeg, but may not work\", RuntimeWarning)\n"
     ]
    }
   ],
   "source": [
    "from manim import *"
   ]
  },
  {
   "cell_type": "code",
   "execution_count": 7,
   "id": "a613b04c-3bf9-4572-8c2f-40e7876b1b43",
   "metadata": {
    "execution": {
     "iopub.execute_input": "2025-08-21T19:07:04.300299Z",
     "iopub.status.busy": "2025-08-21T19:07:04.299983Z",
     "iopub.status.idle": "2025-08-21T19:07:04.521295Z",
     "shell.execute_reply": "2025-08-21T19:07:04.520502Z",
     "shell.execute_reply.started": "2025-08-21T19:07:04.300276Z"
    }
   },
   "outputs": [
    {
     "data": {
      "text/html": [
       "<pre style=\"white-space:pre;overflow-x:auto;line-height:normal;font-family:Menlo,'DejaVu Sans Mono',consolas,'Courier New',monospace\">Manim Community <span style=\"color: #008000; text-decoration-color: #008000\">v0.19.0</span>\n",
       "\n",
       "</pre>\n"
      ],
      "text/plain": [
       "Manim Community \u001b[32mv0.\u001b[0m\u001b[32m19.0\u001b[0m\n",
       "\n"
      ]
     },
     "metadata": {},
     "output_type": "display_data"
    },
    {
     "ename": "TypeError",
     "evalue": "Mobject.__init__() got an unexpected keyword argument 'corner_radius'",
     "output_type": "error",
     "traceback": [
      "\u001b[0;31m---------------------------------------------------------------------------\u001b[0m",
      "\u001b[0;31mTypeError\u001b[0m                                 Traceback (most recent call last)",
      "Cell \u001b[0;32mIn[7], line 1\u001b[0m\n\u001b[0;32m----> 1\u001b[0m \u001b[43mget_ipython\u001b[49m\u001b[43m(\u001b[49m\u001b[43m)\u001b[49m\u001b[38;5;241;43m.\u001b[39;49m\u001b[43mrun_cell_magic\u001b[49m\u001b[43m(\u001b[49m\u001b[38;5;124;43m'\u001b[39;49m\u001b[38;5;124;43mmanim\u001b[39;49m\u001b[38;5;124;43m'\u001b[39;49m\u001b[43m,\u001b[49m\u001b[43m \u001b[49m\u001b[38;5;124;43m'\u001b[39;49m\u001b[38;5;124;43m-pqh -r 1920,1080  -v WARNING generate\u001b[39;49m\u001b[38;5;124;43m'\u001b[39;49m\u001b[43m,\u001b[49m\u001b[43m \u001b[49m\u001b[38;5;124;43m'\u001b[39;49m\u001b[38;5;130;43;01m\\n\u001b[39;49;00m\u001b[38;5;124;43mfrom manim import *\u001b[39;49m\u001b[38;5;130;43;01m\\n\u001b[39;49;00m\u001b[38;5;130;43;01m\\n\u001b[39;49;00m\u001b[38;5;124;43mclass generate(Scene):\u001b[39;49m\u001b[38;5;130;43;01m\\n\u001b[39;49;00m\u001b[38;5;124;43m    def construct(self):\u001b[39;49m\u001b[38;5;130;43;01m\\n\u001b[39;49;00m\u001b[38;5;124;43m        img = ImageMobject(\u001b[39;49m\u001b[38;5;124;43m\"\u001b[39;49m\u001b[38;5;124;43mnew_encoder.jpg\u001b[39;49m\u001b[38;5;124;43m\"\u001b[39;49m\u001b[38;5;124;43m)\u001b[39;49m\u001b[38;5;130;43;01m\\n\u001b[39;49;00m\u001b[38;5;124;43m        img.scale_to_fit_height(config.frame_height * 0.8)\u001b[39;49m\u001b[38;5;130;43;01m\\n\u001b[39;49;00m\u001b[38;5;130;43;01m\\n\u001b[39;49;00m\u001b[38;5;124;43m        # Cria um retângulo com cantos arredondados do mesmo tamanho da imagem\u001b[39;49m\u001b[38;5;130;43;01m\\n\u001b[39;49;00m\u001b[38;5;124;43m        mask = Rectangle(\u001b[39;49m\u001b[38;5;130;43;01m\\n\u001b[39;49;00m\u001b[38;5;124;43m            height=img.height,\u001b[39;49m\u001b[38;5;130;43;01m\\n\u001b[39;49;00m\u001b[38;5;124;43m            width=img.width,\u001b[39;49m\u001b[38;5;130;43;01m\\n\u001b[39;49;00m\u001b[38;5;124;43m            corner_radius=0.5,  # raio dos cantos\u001b[39;49m\u001b[38;5;130;43;01m\\n\u001b[39;49;00m\u001b[38;5;124;43m            fill_opacity=1,\u001b[39;49m\u001b[38;5;130;43;01m\\n\u001b[39;49;00m\u001b[38;5;124;43m            stroke_opacity=0,\u001b[39;49m\u001b[38;5;130;43;01m\\n\u001b[39;49;00m\u001b[38;5;124;43m            fill_color=BLACK\u001b[39;49m\u001b[38;5;130;43;01m\\n\u001b[39;49;00m\u001b[38;5;124;43m        )\u001b[39;49m\u001b[38;5;130;43;01m\\n\u001b[39;49;00m\u001b[38;5;130;43;01m\\n\u001b[39;49;00m\u001b[38;5;124;43m        # Usa Group com imagem \u001b[39;49m\u001b[38;5;124;43m\"\u001b[39;49m\u001b[38;5;124;43mclipped\u001b[39;49m\u001b[38;5;124;43m\"\u001b[39;49m\u001b[38;5;124;43m (parece máscara)\u001b[39;49m\u001b[38;5;130;43;01m\\n\u001b[39;49;00m\u001b[38;5;124;43m        group = Group(mask, img).set_z_index(1)\u001b[39;49m\u001b[38;5;130;43;01m\\n\u001b[39;49;00m\u001b[38;5;130;43;01m\\n\u001b[39;49;00m\u001b[38;5;124;43m        self.add(group)\u001b[39;49m\u001b[38;5;130;43;01m\\n\u001b[39;49;00m\u001b[38;5;124;43m        self.wait(2)\u001b[39;49m\u001b[38;5;130;43;01m\\n\u001b[39;49;00m\u001b[38;5;124;43m'\u001b[39;49m\u001b[43m)\u001b[49m\n",
      "File \u001b[0;32m/opt/conda/lib/python3.12/site-packages/IPython/core/interactiveshell.py:2517\u001b[0m, in \u001b[0;36mInteractiveShell.run_cell_magic\u001b[0;34m(self, magic_name, line, cell)\u001b[0m\n\u001b[1;32m   2515\u001b[0m \u001b[38;5;28;01mwith\u001b[39;00m \u001b[38;5;28mself\u001b[39m\u001b[38;5;241m.\u001b[39mbuiltin_trap:\n\u001b[1;32m   2516\u001b[0m     args \u001b[38;5;241m=\u001b[39m (magic_arg_s, cell)\n\u001b[0;32m-> 2517\u001b[0m     result \u001b[38;5;241m=\u001b[39m \u001b[43mfn\u001b[49m\u001b[43m(\u001b[49m\u001b[38;5;241;43m*\u001b[39;49m\u001b[43margs\u001b[49m\u001b[43m,\u001b[49m\u001b[43m \u001b[49m\u001b[38;5;241;43m*\u001b[39;49m\u001b[38;5;241;43m*\u001b[39;49m\u001b[43mkwargs\u001b[49m\u001b[43m)\u001b[49m\n\u001b[1;32m   2519\u001b[0m \u001b[38;5;66;03m# The code below prevents the output from being displayed\u001b[39;00m\n\u001b[1;32m   2520\u001b[0m \u001b[38;5;66;03m# when using magics with decorator @output_can_be_silenced\u001b[39;00m\n\u001b[1;32m   2521\u001b[0m \u001b[38;5;66;03m# when the last Python token in the expression is a ';'.\u001b[39;00m\n\u001b[1;32m   2522\u001b[0m \u001b[38;5;28;01mif\u001b[39;00m \u001b[38;5;28mgetattr\u001b[39m(fn, magic\u001b[38;5;241m.\u001b[39mMAGIC_OUTPUT_CAN_BE_SILENCED, \u001b[38;5;28;01mFalse\u001b[39;00m):\n",
      "File \u001b[0;32m/opt/conda/lib/python3.12/site-packages/manim/utils/ipython_magic.py:143\u001b[0m, in \u001b[0;36mManimMagic.manim\u001b[0;34m(self, line, cell, local_ns)\u001b[0m\n\u001b[1;32m    141\u001b[0m     SceneClass \u001b[38;5;241m=\u001b[39m local_ns[config[\u001b[38;5;124m\"\u001b[39m\u001b[38;5;124mscene_names\u001b[39m\u001b[38;5;124m\"\u001b[39m][\u001b[38;5;241m0\u001b[39m]]\n\u001b[1;32m    142\u001b[0m     scene \u001b[38;5;241m=\u001b[39m SceneClass(renderer\u001b[38;5;241m=\u001b[39mrenderer)\n\u001b[0;32m--> 143\u001b[0m     \u001b[43mscene\u001b[49m\u001b[38;5;241;43m.\u001b[39;49m\u001b[43mrender\u001b[49m\u001b[43m(\u001b[49m\u001b[43m)\u001b[49m\n\u001b[1;32m    144\u001b[0m \u001b[38;5;28;01mfinally\u001b[39;00m:\n\u001b[1;32m    145\u001b[0m     \u001b[38;5;66;03m# Shader cache becomes invalid as the context is destroyed\u001b[39;00m\n\u001b[1;32m    146\u001b[0m     shader_program_cache\u001b[38;5;241m.\u001b[39mclear()\n",
      "File \u001b[0;32m/opt/conda/lib/python3.12/site-packages/manim/scene/scene.py:237\u001b[0m, in \u001b[0;36mScene.render\u001b[0;34m(self, preview)\u001b[0m\n\u001b[1;32m    235\u001b[0m \u001b[38;5;28mself\u001b[39m\u001b[38;5;241m.\u001b[39msetup()\n\u001b[1;32m    236\u001b[0m \u001b[38;5;28;01mtry\u001b[39;00m:\n\u001b[0;32m--> 237\u001b[0m     \u001b[38;5;28;43mself\u001b[39;49m\u001b[38;5;241;43m.\u001b[39;49m\u001b[43mconstruct\u001b[49m\u001b[43m(\u001b[49m\u001b[43m)\u001b[49m\n\u001b[1;32m    238\u001b[0m \u001b[38;5;28;01mexcept\u001b[39;00m EndSceneEarlyException:\n\u001b[1;32m    239\u001b[0m     \u001b[38;5;28;01mpass\u001b[39;00m\n",
      "File \u001b[0;32m<string>:10\u001b[0m, in \u001b[0;36mconstruct\u001b[0;34m(self)\u001b[0m\n",
      "File \u001b[0;32m/opt/conda/lib/python3.12/site-packages/manim/mobject/geometry/polygram.py:631\u001b[0m, in \u001b[0;36mRectangle.__init__\u001b[0;34m(self, color, height, width, grid_xstep, grid_ystep, mark_paths_closed, close_new_points, **kwargs)\u001b[0m\n\u001b[1;32m    620\u001b[0m \u001b[38;5;28;01mdef\u001b[39;00m\u001b[38;5;250m \u001b[39m\u001b[38;5;21m__init__\u001b[39m(\n\u001b[1;32m    621\u001b[0m     \u001b[38;5;28mself\u001b[39m,\n\u001b[1;32m    622\u001b[0m     color: ParsableManimColor \u001b[38;5;241m=\u001b[39m WHITE,\n\u001b[0;32m   (...)\u001b[0m\n\u001b[1;32m    629\u001b[0m     \u001b[38;5;241m*\u001b[39m\u001b[38;5;241m*\u001b[39mkwargs: Any,\n\u001b[1;32m    630\u001b[0m ):\n\u001b[0;32m--> 631\u001b[0m     \u001b[38;5;28;43msuper\u001b[39;49m\u001b[43m(\u001b[49m\u001b[43m)\u001b[49m\u001b[38;5;241;43m.\u001b[39;49m\u001b[38;5;21;43m__init__\u001b[39;49m\u001b[43m(\u001b[49m\u001b[43mUR\u001b[49m\u001b[43m,\u001b[49m\u001b[43m \u001b[49m\u001b[43mUL\u001b[49m\u001b[43m,\u001b[49m\u001b[43m \u001b[49m\u001b[43mDL\u001b[49m\u001b[43m,\u001b[49m\u001b[43m \u001b[49m\u001b[43mDR\u001b[49m\u001b[43m,\u001b[49m\u001b[43m \u001b[49m\u001b[43mcolor\u001b[49m\u001b[38;5;241;43m=\u001b[39;49m\u001b[43mcolor\u001b[49m\u001b[43m,\u001b[49m\u001b[43m \u001b[49m\u001b[38;5;241;43m*\u001b[39;49m\u001b[38;5;241;43m*\u001b[39;49m\u001b[43mkwargs\u001b[49m\u001b[43m)\u001b[49m\n\u001b[1;32m    632\u001b[0m     \u001b[38;5;28mself\u001b[39m\u001b[38;5;241m.\u001b[39mstretch_to_fit_width(width)\n\u001b[1;32m    633\u001b[0m     \u001b[38;5;28mself\u001b[39m\u001b[38;5;241m.\u001b[39mstretch_to_fit_height(height)\n",
      "File \u001b[0;32m/opt/conda/lib/python3.12/site-packages/manim/mobject/geometry/polygram.py:329\u001b[0m, in \u001b[0;36mPolygon.__init__\u001b[0;34m(self, *vertices, **kwargs)\u001b[0m\n\u001b[1;32m    328\u001b[0m \u001b[38;5;28;01mdef\u001b[39;00m\u001b[38;5;250m \u001b[39m\u001b[38;5;21m__init__\u001b[39m(\u001b[38;5;28mself\u001b[39m, \u001b[38;5;241m*\u001b[39mvertices: Point3DLike, \u001b[38;5;241m*\u001b[39m\u001b[38;5;241m*\u001b[39mkwargs: Any) \u001b[38;5;241m-\u001b[39m\u001b[38;5;241m>\u001b[39m \u001b[38;5;28;01mNone\u001b[39;00m:\n\u001b[0;32m--> 329\u001b[0m     \u001b[38;5;28;43msuper\u001b[39;49m\u001b[43m(\u001b[49m\u001b[43m)\u001b[49m\u001b[38;5;241;43m.\u001b[39;49m\u001b[38;5;21;43m__init__\u001b[39;49m\u001b[43m(\u001b[49m\u001b[43mvertices\u001b[49m\u001b[43m,\u001b[49m\u001b[43m \u001b[49m\u001b[38;5;241;43m*\u001b[39;49m\u001b[38;5;241;43m*\u001b[39;49m\u001b[43mkwargs\u001b[49m\u001b[43m)\u001b[49m\n",
      "File \u001b[0;32m/opt/conda/lib/python3.12/site-packages/manim/mobject/geometry/polygram.py:91\u001b[0m, in \u001b[0;36mPolygram.__init__\u001b[0;34m(self, color, *vertex_groups, **kwargs)\u001b[0m\n\u001b[1;32m     85\u001b[0m \u001b[38;5;28;01mdef\u001b[39;00m\u001b[38;5;250m \u001b[39m\u001b[38;5;21m__init__\u001b[39m(\n\u001b[1;32m     86\u001b[0m     \u001b[38;5;28mself\u001b[39m,\n\u001b[1;32m     87\u001b[0m     \u001b[38;5;241m*\u001b[39mvertex_groups: Point3DLike_Array,\n\u001b[1;32m     88\u001b[0m     color: ParsableManimColor \u001b[38;5;241m=\u001b[39m BLUE,\n\u001b[1;32m     89\u001b[0m     \u001b[38;5;241m*\u001b[39m\u001b[38;5;241m*\u001b[39mkwargs: Any,\n\u001b[1;32m     90\u001b[0m ):\n\u001b[0;32m---> 91\u001b[0m     \u001b[38;5;28;43msuper\u001b[39;49m\u001b[43m(\u001b[49m\u001b[43m)\u001b[49m\u001b[38;5;241;43m.\u001b[39;49m\u001b[38;5;21;43m__init__\u001b[39;49m\u001b[43m(\u001b[49m\u001b[43mcolor\u001b[49m\u001b[38;5;241;43m=\u001b[39;49m\u001b[43mcolor\u001b[49m\u001b[43m,\u001b[49m\u001b[43m \u001b[49m\u001b[38;5;241;43m*\u001b[39;49m\u001b[38;5;241;43m*\u001b[39;49m\u001b[43mkwargs\u001b[49m\u001b[43m)\u001b[49m\n\u001b[1;32m     93\u001b[0m     \u001b[38;5;28;01mfor\u001b[39;00m vertices \u001b[38;5;129;01min\u001b[39;00m vertex_groups:\n\u001b[1;32m     94\u001b[0m         \u001b[38;5;66;03m# The inferred type for *vertices is Any, but it should be\u001b[39;00m\n\u001b[1;32m     95\u001b[0m         \u001b[38;5;66;03m# Point3D_Array\u001b[39;00m\n\u001b[1;32m     96\u001b[0m         first_vertex, \u001b[38;5;241m*\u001b[39mvertices \u001b[38;5;241m=\u001b[39m vertices\n",
      "File \u001b[0;32m/opt/conda/lib/python3.12/site-packages/manim/mobject/types/vectorized_mobject.py:161\u001b[0m, in \u001b[0;36mVMobject.__init__\u001b[0;34m(self, fill_color, fill_opacity, stroke_color, stroke_opacity, stroke_width, background_stroke_color, background_stroke_opacity, background_stroke_width, sheen_factor, joint_type, sheen_direction, close_new_points, pre_function_handle_to_anchor_scale_factor, make_smooth_after_applying_functions, background_image, shade_in_3d, tolerance_for_point_equality, n_points_per_cubic_curve, cap_style, **kwargs)\u001b[0m\n\u001b[1;32m    157\u001b[0m \u001b[38;5;28mself\u001b[39m\u001b[38;5;241m.\u001b[39m_bezier_t_values: npt\u001b[38;5;241m.\u001b[39mNDArray[\u001b[38;5;28mfloat\u001b[39m] \u001b[38;5;241m=\u001b[39m np\u001b[38;5;241m.\u001b[39mlinspace(\n\u001b[1;32m    158\u001b[0m     \u001b[38;5;241m0\u001b[39m, \u001b[38;5;241m1\u001b[39m, n_points_per_cubic_curve\n\u001b[1;32m    159\u001b[0m )\n\u001b[1;32m    160\u001b[0m \u001b[38;5;28mself\u001b[39m\u001b[38;5;241m.\u001b[39mcap_style: CapStyleType \u001b[38;5;241m=\u001b[39m cap_style\n\u001b[0;32m--> 161\u001b[0m \u001b[38;5;28;43msuper\u001b[39;49m\u001b[43m(\u001b[49m\u001b[43m)\u001b[49m\u001b[38;5;241;43m.\u001b[39;49m\u001b[38;5;21;43m__init__\u001b[39;49m\u001b[43m(\u001b[49m\u001b[38;5;241;43m*\u001b[39;49m\u001b[38;5;241;43m*\u001b[39;49m\u001b[43mkwargs\u001b[49m\u001b[43m)\u001b[49m\n\u001b[1;32m    162\u001b[0m \u001b[38;5;28mself\u001b[39m\u001b[38;5;241m.\u001b[39msubmobjects: \u001b[38;5;28mlist\u001b[39m[VMobject]\n\u001b[1;32m    164\u001b[0m \u001b[38;5;66;03m# TODO: Find where color overwrites are happening and remove the color doubling\u001b[39;00m\n\u001b[1;32m    165\u001b[0m \u001b[38;5;66;03m# if \"color\" in kwargs:\u001b[39;00m\n\u001b[1;32m    166\u001b[0m \u001b[38;5;66;03m#     fill_color = kwargs[\"color\"]\u001b[39;00m\n\u001b[1;32m    167\u001b[0m \u001b[38;5;66;03m#     stroke_color = kwargs[\"color\"]\u001b[39;00m\n",
      "\u001b[0;31mTypeError\u001b[0m: Mobject.__init__() got an unexpected keyword argument 'corner_radius'"
     ]
    }
   ],
   "source": [
    "%%manim -pqh -r 1920,1080  -v WARNING generate\n",
    "\n",
    "from manim import *\n",
    "\n",
    "class generate(Scene):\n",
    "    def construct(self):\n",
    "        img = ImageMobject(\"new_encoder.jpg\")\n",
    "        img.scale_to_fit_height(config.frame_height * 0.8)\n",
    "\n",
    "        # Cria um retângulo com cantos arredondados do mesmo tamanho da imagem\n",
    "        mask = Rectangle(\n",
    "            height=img.height,\n",
    "            width=img.width,\n",
    "            corner_radius=0.5,  # raio dos cantos\n",
    "            fill_opacity=1,\n",
    "            stroke_opacity=0,\n",
    "            fill_color=BLACK\n",
    "        )\n",
    "\n",
    "        # Usa Group com imagem \"clipped\" (parece máscara)\n",
    "        group = Group(mask, img).set_z_index(1)\n",
    "\n",
    "        self.add(group)\n",
    "        self.wait(2)\n"
   ]
  },
  {
   "cell_type": "code",
   "execution_count": null,
   "id": "8600d414-9696-4e54-ad92-fae85f4f7d88",
   "metadata": {},
   "outputs": [],
   "source": []
  },
  {
   "cell_type": "code",
   "execution_count": null,
   "id": "8c45fc51-bc4f-48ea-9d5f-c12cf8c893ae",
   "metadata": {},
   "outputs": [],
   "source": []
  }
 ],
 "metadata": {
  "kernelspec": {
   "display_name": "Python 3 (ipykernel)",
   "language": "python",
   "name": "python3"
  },
  "language_info": {
   "codemirror_mode": {
    "name": "ipython",
    "version": 3
   },
   "file_extension": ".py",
   "mimetype": "text/x-python",
   "name": "python",
   "nbconvert_exporter": "python",
   "pygments_lexer": "ipython3",
   "version": "3.12.9"
  }
 },
 "nbformat": 4,
 "nbformat_minor": 5
}
