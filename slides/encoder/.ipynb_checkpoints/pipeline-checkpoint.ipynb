{
 "cells": [
  {
   "cell_type": "code",
   "execution_count": null,
   "id": "ab535708-10c6-44cb-97b5-09d2d796c809",
   "metadata": {},
   "outputs": [],
   "source": [
    "import time\n",
    "from manim import *\n",
    "\n",
    "files = [\n",
    "    \"01-InputEmbedding.py\",\n",
    "    \"02-PositionalEncoding.py\",\n",
    "    \"03-TotalInput.py\",\n",
    "    \"04-MA_Normalization.py\",\n",
    "    \"05-MA_weights.py\",\n",
    "    \"06-MA_heads.py\",\n",
    "    \"07-MA_softmax.py\",\n",
    "    \"08-MA_values.py\",\n",
    "    \"09-MA_output.py\",\n",
    "    \"10-MA_Residual_Add.py\",\n",
    "    \"11-NN_Normalization.py\",\n",
    "    \"12-NN_layer_1_weights.py\",\n",
    "    \"13-NN_layer_1_output.py\",\n",
    "    \"14-NN_layer_2_weights.py\",\n",
    "    \"15-NN_Residual_Add.py\"\n",
    "]\n",
    "\n",
    "start = time.time()\n",
    "\n",
    "for file in files:\n",
    "    print(f\"🎬 Renderizando {file}...\")\n",
    "    !manim -ql -v WARNING \"{file}\" generate\n",
    "\n",
    "end = time.time()\n",
    "print(f\"\\n⏱ Tempo total: {end - start:.2f} segundos\")\n"
   ]
  }
 ],
 "metadata": {
  "kernelspec": {
   "display_name": "Python 3 (ipykernel)",
   "language": "python",
   "name": "python3"
  },
  "language_info": {
   "codemirror_mode": {
    "name": "ipython",
    "version": 3
   },
   "file_extension": ".py",
   "mimetype": "text/x-python",
   "name": "python",
   "nbconvert_exporter": "python",
   "pygments_lexer": "ipython3",
   "version": "3.12.9"
  }
 },
 "nbformat": 4,
 "nbformat_minor": 5
}
