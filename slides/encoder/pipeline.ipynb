{
 "cells": [
  {
   "cell_type": "code",
   "execution_count": null,
   "id": "ab535708-10c6-44cb-97b5-09d2d796c809",
   "metadata": {},
   "outputs": [],
   "source": [
    "import time\n",
    "from manim import *\n",
    "\n",
    "files = [\n",
    "    \"01-InputEmbedding.py\",\n",
    "    \"02-PositionalEncoding.py\",\n",
    "    \"03-TotalInput.py\",\n",
    "    \"04-MA_Normalization.py\",\n",
    "    \"05-MA_weights.py\",\n",
    "    \"06-MA_heads.py\",\n",
    "    \"07-MA_softmax.py\",\n",
    "    \"08-MA_values.py\",\n",
    "    \"09-MA_output.py\",\n",
    "    \"10-MA_Residual_Add.py\",\n",
    "    \"11-NN_Normalization.py\",\n",
    "    \"12-NN_layer_1_weights.py\",\n",
    "    \"13-NN_layer_1_output.py\",\n",
    "    \"14-NN_layer_2_weights.py\",\n",
    "    \"15-NN_Residual_Add.py\",\n",
    "    \"16-Encoder_Normalization.py\"\n",
    "]\n",
    "\n",
    "start = time.time()\n",
    "\n",
    "for file in files:\n",
    "    print(f\"🎬 Renderizando {file}...\")\n",
    "    !manim -qh -v WARNING \"{file}\" generate\n",
    "\n",
    "end = time.time()\n",
    "print(f\"\\n⏱ Tempo total: {end - start:.2f} segundos\")\n"
   ]
  },
  {
   "cell_type": "code",
   "execution_count": 2,
   "id": "61c99474-8dfb-429a-be90-151f1d1b890c",
   "metadata": {
    "execution": {
     "iopub.execute_input": "2025-08-19T16:17:45.877570Z",
     "iopub.status.busy": "2025-08-19T16:17:45.877251Z",
     "iopub.status.idle": "2025-08-19T16:17:45.881017Z",
     "shell.execute_reply": "2025-08-19T16:17:45.880439Z",
     "shell.execute_reply.started": "2025-08-19T16:17:45.877550Z"
    }
   },
   "outputs": [],
   "source": [
    "from manim import *\n",
    "import math\n",
    "from variables import *\n",
    "\n",
    "import sys\n",
    "sys.path.append(\"..\") \n",
    "from manim_functions import *"
   ]
  },
  {
   "cell_type": "code",
   "execution_count": 63,
   "id": "0d34cc70-4bec-4485-9039-f9398cdec123",
   "metadata": {
    "execution": {
     "iopub.execute_input": "2025-08-19T19:02:32.496632Z",
     "iopub.status.busy": "2025-08-19T19:02:32.496324Z",
     "iopub.status.idle": "2025-08-19T19:04:42.098250Z",
     "shell.execute_reply": "2025-08-19T19:04:42.097591Z",
     "shell.execute_reply.started": "2025-08-19T19:02:32.496607Z"
    }
   },
   "outputs": [
    {
     "data": {
      "text/html": [
       "<pre style=\"white-space:pre;overflow-x:auto;line-height:normal;font-family:Menlo,'DejaVu Sans Mono',consolas,'Courier New',monospace\">Manim Community <span style=\"color: #008000; text-decoration-color: #008000\">v0.19.0</span>\n",
       "\n",
       "</pre>\n"
      ],
      "text/plain": [
       "Manim Community \u001b[32mv0.\u001b[0m\u001b[32m19.0\u001b[0m\n",
       "\n"
      ]
     },
     "metadata": {},
     "output_type": "display_data"
    },
    {
     "name": "stderr",
     "output_type": "stream",
     "text": [
      "                                                                                                                                                                                  "
     ]
    },
    {
     "data": {
      "text/html": [
       "<video src=\"media/jupyter/generate@2025-08-19@19-04-41.mp4\" controls autoplay loop style=\"max-width: 60%;\"  >\n",
       "      Your browser does not support the <code>video</code> element.\n",
       "    </video>"
      ],
      "text/plain": [
       "<IPython.core.display.Video object>"
      ]
     },
     "metadata": {},
     "output_type": "display_data"
    }
   ],
   "source": [
    "%%manim -ql -v WARNING generate\n",
    "\n"
   ]
  },
  {
   "cell_type": "code",
   "execution_count": null,
   "id": "9b567ffe-da5c-4fa4-bf8c-3e4ee564b4f1",
   "metadata": {},
   "outputs": [],
   "source": []
  }
 ],
 "metadata": {
  "kernelspec": {
   "display_name": "Python 3 (ipykernel)",
   "language": "python",
   "name": "python3"
  },
  "language_info": {
   "codemirror_mode": {
    "name": "ipython",
    "version": 3
   },
   "file_extension": ".py",
   "mimetype": "text/x-python",
   "name": "python",
   "nbconvert_exporter": "python",
   "pygments_lexer": "ipython3",
   "version": "3.12.9"
  }
 },
 "nbformat": 4,
 "nbformat_minor": 5
}
