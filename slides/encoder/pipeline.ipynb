{
 "cells": [
  {
   "cell_type": "code",
   "execution_count": null,
   "id": "ab535708-10c6-44cb-97b5-09d2d796c809",
   "metadata": {},
   "outputs": [],
   "source": [
    "import time\n",
    "from manim import *\n",
    "\n",
    "files = [\n",
    "    \"01-InputEmbedding.py\",\n",
    "    \"02-PositionalEncoding.py\",\n",
    "    \"03-TotalInput.py\",\n",
    "    \"04-MA_Normalization.py\",\n",
    "    \"05-MA_weights.py\",\n",
    "    \"06-MA_heads.py\",\n",
    "    \"07-MA_softmax.py\",\n",
    "    \"08-MA_values.py\",\n",
    "    \"09-MA_output.py\",\n",
    "    \"10-MA_Residual_Add.py\",\n",
    "    \"11-NN_Normalization.py\",\n",
    "    \"12-NN_layer_1_weights.py\",\n",
    "    \"13-NN_layer_1_output.py\",\n",
    "    \"14-NN_layer_2_weights.py\",\n",
    "    \"15-NN_Residual_Add.py\",\n",
    "    \"16-Encoder_Normalization.py\"\n",
    "]\n",
    "\n",
    "start = time.time()\n",
    "\n",
    "for file in files:\n",
    "    print(f\"🎬 Renderizando {file}...\")\n",
    "    !manim -qh -v WARNING \"{file}\" generate\n",
    "\n",
    "end = time.time()\n",
    "print(f\"\\n⏱ Tempo total: {end - start:.2f} segundos\")\n"
   ]
  },
  {
   "cell_type": "code",
   "execution_count": 1,
   "id": "61c99474-8dfb-429a-be90-151f1d1b890c",
   "metadata": {
    "execution": {
     "iopub.execute_input": "2025-08-13T16:45:05.519901Z",
     "iopub.status.busy": "2025-08-13T16:45:05.519318Z",
     "iopub.status.idle": "2025-08-13T16:45:06.370536Z",
     "shell.execute_reply": "2025-08-13T16:45:06.369898Z",
     "shell.execute_reply.started": "2025-08-13T16:45:05.519871Z"
    }
   },
   "outputs": [
    {
     "name": "stderr",
     "output_type": "stream",
     "text": [
      "/opt/conda/lib/python3.12/site-packages/pydub/utils.py:170: RuntimeWarning: Couldn't find ffmpeg or avconv - defaulting to ffmpeg, but may not work\n",
      "  warn(\"Couldn't find ffmpeg or avconv - defaulting to ffmpeg, but may not work\", RuntimeWarning)\n"
     ]
    }
   ],
   "source": [
    "from manim import *\n",
    "import math\n",
    "from variables import *\n",
    "\n",
    "import sys\n",
    "sys.path.append(\"..\") \n",
    "from manim_functions import *"
   ]
  },
  {
   "cell_type": "code",
   "execution_count": 2,
   "id": "0d34cc70-4bec-4485-9039-f9398cdec123",
   "metadata": {
    "execution": {
     "iopub.execute_input": "2025-08-13T16:45:10.239323Z",
     "iopub.status.busy": "2025-08-13T16:45:10.238620Z",
     "iopub.status.idle": "2025-08-13T16:51:07.516172Z",
     "shell.execute_reply": "2025-08-13T16:51:07.515624Z",
     "shell.execute_reply.started": "2025-08-13T16:45:10.239298Z"
    }
   },
   "outputs": [
    {
     "data": {
      "text/html": [
       "<pre style=\"white-space:pre;overflow-x:auto;line-height:normal;font-family:Menlo,'DejaVu Sans Mono',consolas,'Courier New',monospace\">Manim Community <span style=\"color: #008000; text-decoration-color: #008000\">v0.19.0</span>\n",
       "\n",
       "</pre>\n"
      ],
      "text/plain": [
       "Manim Community \u001b[32mv0.\u001b[0m\u001b[32m19.0\u001b[0m\n",
       "\n"
      ]
     },
     "metadata": {},
     "output_type": "display_data"
    },
    {
     "name": "stderr",
     "output_type": "stream",
     "text": [
      "                                                                                                                                                                     "
     ]
    },
    {
     "data": {
      "text/html": [
       "<video src=\"media/jupyter/generate@2025-08-13@16-51-07.mp4\" controls autoplay loop style=\"max-width: 60%;\"  >\n",
       "      Your browser does not support the <code>video</code> element.\n",
       "    </video>"
      ],
      "text/plain": [
       "<IPython.core.display.Video object>"
      ]
     },
     "metadata": {},
     "output_type": "display_data"
    }
   ],
   "source": [
    "%%manim -ql -v WARNING generate\n",
    "\n",
    "\n",
    "class generate(Scene):\n",
    "    def construct(self):\n",
    "        self.camera.background_color = BLACK\n",
    "\n",
    "        formula = MathTex(\n",
    "                              r\"\\text{Attention} = \\text{softmax}\\left(\",\n",
    "                              r\"\\frac{Q.K^\\top}{\\sqrt{d_k}}\",\n",
    "                              r\"\\right).V\",\n",
    "                              color=WHITE\n",
    "                          ).scale(0.5).to_edge(UP + LEFT)\n",
    "\n",
    "        explanation = MathTex(r\"\\text{where:}  \\quad   d_k = 2\",\n",
    "                              color=WHITE).scale(0.6).next_to(formula, RIGHT, buff= 7)\n",
    "\n",
    "        self.play(Write(formula))\n",
    "        self.play(Write(explanation))\n",
    "\n",
    "\n",
    "        def split(position,p,arg_1,color_1,arg_2,color_2,arg_3,arg_4,arg_5):\n",
    "\n",
    "\n",
    "            #h_Query\n",
    "            dic = { \"matrix\":  {\"values\": arg_1                   , \"scale\": 0.3, \"color\": color_1},\n",
    "                    \"title\":   {\"string\": f\"Query Head {p}\"           , \"scale\": 0.3, \"color\":  color_1},\n",
    "                    \"label_x\": {\"string\": \"Dimensions\"           , \"scale\": 0.3, \"color\": color_1, \"value\": d_model//2},\n",
    "                    \"label_y\": {\"string\": \"Tokens\"                , \"scale\": 0.3, \"color\": color_1, \"value\": len(input_x)}\n",
    "                  }\n",
    "            group_1 = build_matrix(self,dic)\n",
    "            group_1.to_edge(position , buff=0.3)\n",
    "            self.play(Write(group_1))\n",
    "\n",
    "            #multiple\n",
    "            times = MathTex(r\"\\times\", color=WHITE).scale(0.5).next_to(group_1, RIGHT, buff=0.1)\n",
    "            self.play(Write(times))\n",
    "\n",
    "            #h_Key\n",
    "            dic = { \"matrix\":  {\"values\": arg_2                  , \"scale\": 0.3, \"color\": color_2},\n",
    "                    \"title\":   {\"string\": f\"Key Head {p}\"          , \"scale\": 0.3, \"color\": color_2},\n",
    "                    \"label_x\": {\"string\": \"Dimensions\"          , \"scale\": 0.3, \"color\": color_2, \"value\": d_model//2},\n",
    "                    \"label_y\": {\"string\": \"Tokens\"               , \"scale\": 0.3, \"color\": color_2, \"value\": len(input_x)}\n",
    "                  }\n",
    "            group_2 = build_matrix(self,dic)\n",
    "            group_2.next_to(times, buff=0.35)\n",
    "\n",
    "            left = Brace( group_2[0], direction=LEFT,buff=0.3, color=WHITE)\n",
    "            right = Brace( group_2[0], direction=RIGHT,buff=0.3, color=WHITE)\n",
    "            trans = Tex(\"T\", color=WHITE).scale(0.3).next_to(right, UP + RIGHT, buff=0.05)\n",
    "            group_2.add(left, right, trans)\n",
    "\n",
    "            self.play(Write(group_2))\n",
    "\n",
    "\n",
    "            #equal\n",
    "            equal = MathTex(r\"=\", color=WHITE).scale(0.5).next_to(group_2, RIGHT, buff=0.05)\n",
    "            self.play(Write(equal))\n",
    "\n",
    "\n",
    "            #animation\n",
    "            animation_T(self,equal,group_1,color_1,group_2,color_2,0.8)\n",
    "\n",
    "\n",
    "            #QK\n",
    "            dic = { \"matrix\":  {\"values\": arg_3                                     , \"scale\": 0.3, \"color\": WHITE},\n",
    "                    \"title\":   {\"string\": \"\\\\mathbf{Q} \\\\cdot \\\\mathbf{K}^{\\\\top}\"  , \"scale\": 0.3, \"color\": WHITE},\n",
    "                    \"label_x\": {\"string\": \"\"                                        , \"scale\": 0.3, \"color\": WHITE, \"value\": \"\"},\n",
    "                    \"label_y\": {\"string\": \"Tokens\"                                  , \"scale\": 0.3, \"color\": WHITE, \"value\": len(input_x)}\n",
    "                  }\n",
    "            group_3 = build_matrix(self,dic, f=True)\n",
    "            group_3.next_to(equal, buff=0.2).align_to(group_1,UP) \n",
    "            self.play(Write(group_3))\n",
    "\n",
    "\n",
    "            #arrow\n",
    "            arrow = MathTex(r\"\\longrightarrow\", color=WHITE).scale(0.5).next_to(group_3, RIGHT, buff=0.1).align_to(equal,UP) \n",
    "            label = MathTex(r\"\\frac{\\text{1}}{\\sqrt{d_k}}\", color=WHITE).scale(0.3).next_to(arrow, UP, buff=0.1)\n",
    "            self.play(Write(arrow), Write(label))\n",
    "\n",
    "\n",
    "            #QK/root\n",
    "            dic = { \"matrix\":  {\"values\": arg_4                                                       , \"scale\": 0.3, \"color\": WHITE},\n",
    "                    \"title\":   {\"string\": \"\\\\frac{\\\\mathbf{Q} \\\\cdot \\\\mathbf{K}^\\\\top}{\\\\sqrt{d_k}}\" , \"scale\": 0.3, \"color\": WHITE},\n",
    "                    \"label_x\": {\"string\": \"\"                                                          , \"scale\": 0.3, \"color\": WHITE, \"value\": \"\"},\n",
    "                    \"label_y\": {\"string\": \"Tokens\"                                                    , \"scale\": 0.3, \"color\": WHITE, \"value\": len(input_x)}\n",
    "                  }\n",
    "            group_4 = build_matrix(self,dic,f=True)\n",
    "            group_4.next_to(arrow, buff=0.2).align_to(group_3,DOWN) \n",
    "            self.play(Write(group_4))\n",
    "\n",
    "\n",
    "            #arrow\n",
    "            arrow = MathTex(r\"\\longrightarrow\", color=WHITE).scale(0.5).next_to(group_4, RIGHT, buff=0.2).align_to(equal,UP) \n",
    "            label = MathTex(r\"Softmax\", color=WHITE).scale(0.3).next_to(arrow, UP, buff=0.1)\n",
    "            self.play(Write(arrow), Write(label))\n",
    "\n",
    "            softmax(self, arrow, group_4)\n",
    "\n",
    "            #Softmax\n",
    "            dic = { \"matrix\":  {\"values\": arg_5                                                                                       , \"scale\": 0.3, \"color\": WHITE},\n",
    "                    \"title\":   {\"string\": \"\\\\text{softmax}\\\\left( \\\\frac{\\\\mathbf{Q} \\\\cdot \\\\mathbf{K}^\\\\top}{\\\\sqrt{d_k}} \\\\right)\" , \"scale\": 0.3, \"color\": WHITE},\n",
    "                    \"label_x\": {\"string\": \"\"                 , \"scale\": 0.3, \"color\": WHITE, \"value\": \"\"},\n",
    "                    \"label_y\": {\"string\": \"Tokens\"          , \"scale\": 0.3, \"color\": WHITE, \"value\": len(input_x)}\n",
    "                  }\n",
    "            group_5 = build_matrix(self,dic,f=True)\n",
    "            group_5.next_to(arrow, buff=0.4).align_to(group_3,DOWN) \n",
    "            self.play(Write(group_5))\n",
    "\n",
    "\n",
    "\n",
    "\n",
    "\n",
    "\n",
    "        split(position   = LEFT*0.2 + UP*6,\n",
    "              p          = 1,\n",
    "              arg_1      = h_query[0][0],\n",
    "              color_1    = BLUE_C,\n",
    "              arg_2      = h_key[0][0],\n",
    "              color_2    = PURE_RED,\n",
    "              arg_3      = QK[0][0],\n",
    "              arg_4      = attention_scores_partial[0][0],\n",
    "              arg_5      = attention_scores[0][0])\n",
    "        \n",
    "\n",
    "        split(position   = LEFT*0.2 + DOWN*5,\n",
    "              p          = 2,\n",
    "              arg_1      = h_query[0][1],\n",
    "              color_1    = BLUE_C,\n",
    "              arg_2      = h_key[0][1],\n",
    "              color_2    = PURE_RED,\n",
    "              arg_3      = QK[0][1],\n",
    "              arg_4      = attention_scores_partial[0][1],\n",
    "              arg_5      = attention_scores[0][1])\n",
    "              \n",
    "\n",
    "\n",
    "\n",
    "        self.wait(60)"
   ]
  },
  {
   "cell_type": "code",
   "execution_count": null,
   "id": "9b567ffe-da5c-4fa4-bf8c-3e4ee564b4f1",
   "metadata": {},
   "outputs": [],
   "source": []
  }
 ],
 "metadata": {
  "kernelspec": {
   "display_name": "Python 3 (ipykernel)",
   "language": "python",
   "name": "python3"
  },
  "language_info": {
   "codemirror_mode": {
    "name": "ipython",
    "version": 3
   },
   "file_extension": ".py",
   "mimetype": "text/x-python",
   "name": "python",
   "nbconvert_exporter": "python",
   "pygments_lexer": "ipython3",
   "version": "3.12.9"
  }
 },
 "nbformat": 4,
 "nbformat_minor": 5
}
