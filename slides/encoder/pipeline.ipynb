{
 "cells": [
  {
   "cell_type": "code",
   "execution_count": null,
   "id": "ab535708-10c6-44cb-97b5-09d2d796c809",
   "metadata": {},
   "outputs": [],
   "source": [
    "import time\n",
    "import os\n",
    "import shutil\n",
    "import glob\n",
    "from manim import *\n",
    "\n",
    "# Lista dos arquivos a renderizar\n",
    "files = [\n",
    "    #\"01-InputEmbedding.py\",\n",
    "    \"notes_01.py\",\n",
    "    #\"02-PositionalEncoding.py\",\n",
    "    \"notes_02.py\",\n",
    "    #\"03-TotalInput.py\",\n",
    "    \"notes_03.py\",\n",
    "    #\"04-MA_Normalization.py\",\n",
    "    \"notes_04.py\",\n",
    "    #\"05-MA_weights.py\",\n",
    "    \"notes_05.py\",\n",
    "    #\"06-MA_heads.py\",\n",
    "    \"notes_06.py\",\n",
    "    #\"07-MA_softmax.py\",\n",
    "    \"notes_07.py\",\n",
    "    #\"08-MA_values.py\",\n",
    "    \"notes_08.py\",\n",
    "    #\"09-MA_output.py\",\n",
    "    \"notes_09.py\",\n",
    "    #\"10-MA_Residual_Add.py\",\n",
    "    \"notes_10.py\",\n",
    "    #\"11-NN_Normalization.py\",\n",
    "    \"notes_11.py\",\n",
    "    #\"12-NN_layer_1_weights.py\",\n",
    "    \"notes_12.py\",\n",
    "    #\"13-NN_layer_1_output.py\",\n",
    "    \"notes_13.py\",\n",
    "    #\"14-NN_layer_2_weights.py\",\n",
    "    \"notes_14.py\",\n",
    "    #\"15-NN_Residual_Add.py\",\n",
    "    \"notes_15.py\",\n",
    "    #\"16-Encoder_Normalization.py\",\n",
    "    \"notes_16.py\"\n",
    "]\n",
    "\n",
    "# Pasta única de saída\n",
    "output_dir = \"frames\"\n",
    "os.makedirs(output_dir, exist_ok=True)\n",
    "\n",
    "start = time.time()\n",
    "\n",
    "for file in files:\n",
    "    base = os.path.splitext(os.path.basename(file))[0]  # ex: \"01-InputEmbedding\"\n",
    "    print(f\"🎬 Renderizando {file} em Full HD...\")\n",
    "\n",
    "    # Renderiza em Full HD e salva apenas o último frame\n",
    "    !manim -pqh -r 1920,1080 -v WARNING \"{file}\" generate --save_last_frame\n",
    "\n",
    "    # Busca o PNG gerado automaticamente, independente do nome\n",
    "    pattern = os.path.join(\"media\", \"images\", base, \"generate*.png\")\n",
    "    matches = glob.glob(pattern)\n",
    "\n",
    "    if matches:\n",
    "        generated = matches[0]  # pega o primeiro encontrado\n",
    "        renamed = os.path.join(output_dir, f\"{base}.png\")\n",
    "        shutil.move(generated, renamed)\n",
    "        print(f\"✅ {renamed} salvo\")\n",
    "    else:\n",
    "        print(f\"⚠️ Não encontrei o frame de {file}\")\n",
    "\n",
    "end = time.time()\n",
    "print(f\"\\n⏱ Tempo total: {end - start:.2f} segundos\")\n"
   ]
  },
  {
   "cell_type": "code",
   "execution_count": 2,
   "id": "61c99474-8dfb-429a-be90-151f1d1b890c",
   "metadata": {
    "execution": {
     "iopub.execute_input": "2025-08-21T19:09:12.700983Z",
     "iopub.status.busy": "2025-08-21T19:09:12.700659Z",
     "iopub.status.idle": "2025-08-21T19:09:13.571975Z",
     "shell.execute_reply": "2025-08-21T19:09:13.571432Z",
     "shell.execute_reply.started": "2025-08-21T19:09:12.700961Z"
    }
   },
   "outputs": [
    {
     "name": "stderr",
     "output_type": "stream",
     "text": [
      "/opt/conda/lib/python3.12/site-packages/pydub/utils.py:170: RuntimeWarning: Couldn't find ffmpeg or avconv - defaulting to ffmpeg, but may not work\n",
      "  warn(\"Couldn't find ffmpeg or avconv - defaulting to ffmpeg, but may not work\", RuntimeWarning)\n"
     ]
    }
   ],
   "source": [
    "from manim import *\n",
    "import math\n",
    "from variables import *\n",
    "\n",
    "import sys\n",
    "sys.path.append(\"..\") \n",
    "from manim_functions import *"
   ]
  },
  {
   "cell_type": "code",
   "execution_count": null,
   "id": "0d34cc70-4bec-4485-9039-f9398cdec123",
   "metadata": {},
   "outputs": [],
   "source": [
    "var = \"cover\"\n",
    "\n",
    "!manim -pqh -r 1920,1080 -v WARNING {var}.py generate --save_last_frame\n",
    "\n",
    "#from IPython.display import Video\n",
    "#Video(f\"media/videos/{var}/480p15/generate.mp4\", embed=True)\n",
    "\n",
    "from IPython.display import Image, display\n",
    "display(Image(filename=f\"media/images/{var}/generate_ManimCE_v0.19.0.png\"))\n"
   ]
  }
 ],
 "metadata": {
  "kernelspec": {
   "display_name": "Python 3 (ipykernel)",
   "language": "python",
   "name": "python3"
  },
  "language_info": {
   "codemirror_mode": {
    "name": "ipython",
    "version": 3
   },
   "file_extension": ".py",
   "mimetype": "text/x-python",
   "name": "python",
   "nbconvert_exporter": "python",
   "pygments_lexer": "ipython3",
   "version": "3.12.9"
  }
 },
 "nbformat": 4,
 "nbformat_minor": 5
}
