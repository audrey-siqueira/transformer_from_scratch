{
 "cells": [
  {
   "cell_type": "code",
   "execution_count": null,
   "id": "ab535708-10c6-44cb-97b5-09d2d796c809",
   "metadata": {
    "execution": {
     "iopub.execute_input": "2025-08-20T23:35:05.846794Z",
     "iopub.status.busy": "2025-08-20T23:35:05.846416Z"
    }
   },
   "outputs": [
    {
     "name": "stdout",
     "output_type": "stream",
     "text": [
      "🎬 Renderizando 01-InputEmbedding.py...\n",
      "/opt/conda/lib/python3.12/site-packages/pydub/utils.py:170: RuntimeWarning: Couldn't find ffmpeg or avconv - defaulting to ffmpeg, but may not work\n",
      "  warn(\"Couldn't find ffmpeg or avconv - defaulting to ffmpeg, but may not work\", RuntimeWarning)\n",
      "Manim Community \u001b[32mv0.\u001b[0m\u001b[32m19.0\u001b[0m\n",
      "\n",
      "                                                                                "
     ]
    }
   ],
   "source": [
    "import time\n",
    "from manim import *\n",
    "\n",
    "files = [\n",
    "    \"01-InputEmbedding.py\",\n",
    "    \"notes_01.py\",\n",
    "    \"02-PositionalEncoding.py\",\n",
    "    \"notes_02.py\",\n",
    "    \"03-TotalInput.py\",\n",
    "    \"notes_03.py\",\n",
    "    \"04-MA_Normalization.py\",\n",
    "    \"notes_04.py\",\n",
    "    \"05-MA_weights.py\",\n",
    "    \"notes_05.py\",\n",
    "    \"06-MA_heads.py\",\n",
    "    \"notes_06.py\",\n",
    "    \"07-MA_softmax.py\",\n",
    "    \"notes_07.py\",\n",
    "    \"08-MA_values.py\",\n",
    "    \"notes_08.py\",\n",
    "    \"09-MA_output.py\",\n",
    "    \"notes_09.py\",\n",
    "    \"10-MA_Residual_Add.py\",\n",
    "    \"notes_10.py\",\n",
    "    \"11-NN_Normalization.py\",\n",
    "    \"notes_11.py\",\n",
    "    \"12-NN_layer_1_weights.py\",\n",
    "    \"notes_12.py\",\n",
    "    \"13-NN_layer_1_output.py\",\n",
    "    \"notes_13.py\",\n",
    "    \"14-NN_layer_2_weights.py\",\n",
    "    \"notes_14.py\",\n",
    "    \"15-NN_Residual_Add.py\",\n",
    "    \"notes_15.py\",\n",
    "    \"16-Encoder_Normalization.py\",\n",
    "    \"notes_16.py\"\n",
    "]\n",
    "\n",
    "\n",
    "start = time.time()\n",
    "\n",
    "for file in files:\n",
    "    print(f\"🎬 Renderizando {file}...\")\n",
    "    !manim -qh -v WARNING \"{file}\" generate\n",
    "\n",
    "end = time.time()\n",
    "print(f\"\\n⏱ Tempo total: {end - start:.2f} segundos\")\n"
   ]
  },
  {
   "cell_type": "code",
   "execution_count": 1,
   "id": "61c99474-8dfb-429a-be90-151f1d1b890c",
   "metadata": {
    "execution": {
     "iopub.execute_input": "2025-08-20T23:09:55.298976Z",
     "iopub.status.busy": "2025-08-20T23:09:55.298424Z",
     "iopub.status.idle": "2025-08-20T23:09:56.122793Z",
     "shell.execute_reply": "2025-08-20T23:09:56.122250Z",
     "shell.execute_reply.started": "2025-08-20T23:09:55.298944Z"
    }
   },
   "outputs": [
    {
     "name": "stderr",
     "output_type": "stream",
     "text": [
      "/opt/conda/lib/python3.12/site-packages/pydub/utils.py:170: RuntimeWarning: Couldn't find ffmpeg or avconv - defaulting to ffmpeg, but may not work\n",
      "  warn(\"Couldn't find ffmpeg or avconv - defaulting to ffmpeg, but may not work\", RuntimeWarning)\n"
     ]
    }
   ],
   "source": [
    "from manim import *\n",
    "import math\n",
    "from variables import *\n",
    "\n",
    "import sys\n",
    "sys.path.append(\"..\") \n",
    "from manim_functions import *"
   ]
  },
  {
   "cell_type": "code",
   "execution_count": null,
   "id": "0d34cc70-4bec-4485-9039-f9398cdec123",
   "metadata": {},
   "outputs": [],
   "source": [
    "var = \"16-Encoder_Normalization\"\n",
    "\n",
    "!manim -ql -v WARNING  {var}.py generate\n",
    "\n",
    "from IPython.display import Video\n",
    "Video(f\"media/videos/{var}/480p15/generate.mp4\", embed=True)"
   ]
  },
  {
   "cell_type": "code",
   "execution_count": null,
   "id": "aa4d0655-30a3-4cb4-80ff-9a73ac38d95f",
   "metadata": {},
   "outputs": [],
   "source": [
    "var = \"notes_16\"\n",
    "\n",
    "!manim -ql -v WARNING  {var}.py generate\n",
    "\n",
    "from IPython.display import Video\n",
    "Video(f\"media/videos/{var}/480p15/generate.mp4\", embed=True)"
   ]
  },
  {
   "cell_type": "code",
   "execution_count": null,
   "id": "219b66b5-baeb-4ff6-9d4e-17eee2271019",
   "metadata": {},
   "outputs": [],
   "source": [
    "!manim -pqh 01-InputEmbedding.py generate --save_last_frame"
   ]
  },
  {
   "cell_type": "code",
   "execution_count": null,
   "id": "8ca965c3-ffe7-4439-960f-0a80ae7e519c",
   "metadata": {},
   "outputs": [],
   "source": []
  }
 ],
 "metadata": {
  "kernelspec": {
   "display_name": "Python 3 (ipykernel)",
   "language": "python",
   "name": "python3"
  },
  "language_info": {
   "codemirror_mode": {
    "name": "ipython",
    "version": 3
   },
   "file_extension": ".py",
   "mimetype": "text/x-python",
   "name": "python",
   "nbconvert_exporter": "python",
   "pygments_lexer": "ipython3",
   "version": "3.12.9"
  }
 },
 "nbformat": 4,
 "nbformat_minor": 5
}
