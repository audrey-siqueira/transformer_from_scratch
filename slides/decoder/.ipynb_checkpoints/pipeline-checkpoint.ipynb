{
 "cells": [
  {
   "cell_type": "code",
   "execution_count": 1,
   "id": "ab535708-10c6-44cb-97b5-09d2d796c809",
   "metadata": {
    "execution": {
     "iopub.execute_input": "2025-08-14T00:00:05.394460Z",
     "iopub.status.busy": "2025-08-14T00:00:05.394118Z",
     "iopub.status.idle": "2025-08-14T00:00:06.195659Z",
     "shell.execute_reply": "2025-08-14T00:00:06.195104Z",
     "shell.execute_reply.started": "2025-08-14T00:00:05.394440Z"
    }
   },
   "outputs": [
    {
     "name": "stderr",
     "output_type": "stream",
     "text": [
      "/opt/conda/lib/python3.12/site-packages/pydub/utils.py:170: RuntimeWarning: Couldn't find ffmpeg or avconv - defaulting to ffmpeg, but may not work\n",
      "  warn(\"Couldn't find ffmpeg or avconv - defaulting to ffmpeg, but may not work\", RuntimeWarning)\n"
     ]
    }
   ],
   "source": [
    "from manim import *\n",
    "import math\n",
    "from variables import *\n",
    "\n",
    "import sys\n",
    "sys.path.append(\"..\") \n",
    "from manim_functions import *"
   ]
  },
  {
   "cell_type": "code",
   "execution_count": 2,
   "id": "cce27ec3-be53-4bc4-b09e-2bb32fb0103f",
   "metadata": {
    "execution": {
     "iopub.execute_input": "2025-08-14T00:00:08.746705Z",
     "iopub.status.busy": "2025-08-14T00:00:08.746184Z",
     "iopub.status.idle": "2025-08-14T00:00:42.086423Z",
     "shell.execute_reply": "2025-08-14T00:00:42.085905Z",
     "shell.execute_reply.started": "2025-08-14T00:00:08.746682Z"
    }
   },
   "outputs": [
    {
     "data": {
      "text/html": [
       "<pre style=\"white-space:pre;overflow-x:auto;line-height:normal;font-family:Menlo,'DejaVu Sans Mono',consolas,'Courier New',monospace\">Manim Community <span style=\"color: #008000; text-decoration-color: #008000\">v0.19.0</span>\n",
       "\n",
       "</pre>\n"
      ],
      "text/plain": [
       "Manim Community \u001b[32mv0.\u001b[0m\u001b[32m19.0\u001b[0m\n",
       "\n"
      ]
     },
     "metadata": {},
     "output_type": "display_data"
    },
    {
     "name": "stderr",
     "output_type": "stream",
     "text": [
      "                                                                                             "
     ]
    },
    {
     "data": {
      "text/html": [
       "<video src=\"media/jupyter/generate@2025-08-14@00-00-42.mp4\" controls autoplay loop style=\"max-width: 60%;\"  >\n",
       "      Your browser does not support the <code>video</code> element.\n",
       "    </video>"
      ],
      "text/plain": [
       "<IPython.core.display.Video object>"
      ]
     },
     "metadata": {},
     "output_type": "display_data"
    }
   ],
   "source": [
    "%%manim -ql -v WARNING generate"
   ]
  },
  {
   "cell_type": "code",
   "execution_count": 17,
   "id": "220afd81-648c-4688-9270-de8caa379648",
   "metadata": {
    "execution": {
     "iopub.execute_input": "2025-08-13T23:58:26.667995Z",
     "iopub.status.busy": "2025-08-13T23:58:26.667676Z",
     "iopub.status.idle": "2025-08-13T23:58:26.671612Z",
     "shell.execute_reply": "2025-08-13T23:58:26.671042Z",
     "shell.execute_reply.started": "2025-08-13T23:58:26.667974Z"
    }
   },
   "outputs": [
    {
     "name": "stdout",
     "output_type": "stream",
     "text": [
      "0.385832222167819\n"
     ]
    }
   ],
   "source": [
    "import numpy as np\n",
    "\n",
    "v1 = np.array(AV_cont[0][0])\n",
    "v2 = np.array(w_o[3])\n",
    "\n",
    "dot = np.dot(v1, v2)\n",
    "print(dot)"
   ]
  }
 ],
 "metadata": {
  "kernelspec": {
   "display_name": "Python 3 (ipykernel)",
   "language": "python",
   "name": "python3"
  },
  "language_info": {
   "codemirror_mode": {
    "name": "ipython",
    "version": 3
   },
   "file_extension": ".py",
   "mimetype": "text/x-python",
   "name": "python",
   "nbconvert_exporter": "python",
   "pygments_lexer": "ipython3",
   "version": "3.12.9"
  }
 },
 "nbformat": 4,
 "nbformat_minor": 5
}
