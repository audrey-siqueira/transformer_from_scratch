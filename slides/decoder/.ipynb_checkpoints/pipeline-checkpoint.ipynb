{
 "cells": [
  {
   "cell_type": "code",
   "execution_count": 1,
   "id": "ab535708-10c6-44cb-97b5-09d2d796c809",
   "metadata": {
    "execution": {
     "iopub.execute_input": "2025-08-15T20:52:20.029373Z",
     "iopub.status.busy": "2025-08-15T20:52:20.029160Z",
     "iopub.status.idle": "2025-08-15T20:52:20.867724Z",
     "shell.execute_reply": "2025-08-15T20:52:20.867166Z",
     "shell.execute_reply.started": "2025-08-15T20:52:20.029355Z"
    }
   },
   "outputs": [
    {
     "name": "stderr",
     "output_type": "stream",
     "text": [
      "/opt/conda/lib/python3.12/site-packages/pydub/utils.py:170: RuntimeWarning: Couldn't find ffmpeg or avconv - defaulting to ffmpeg, but may not work\n",
      "  warn(\"Couldn't find ffmpeg or avconv - defaulting to ffmpeg, but may not work\", RuntimeWarning)\n"
     ]
    }
   ],
   "source": [
    "from manim import *\n",
    "import math\n",
    "from variables import *\n",
    "\n",
    "import sys\n",
    "sys.path.append(\"..\") \n",
    "from manim_functions import *"
   ]
  },
  {
   "cell_type": "code",
   "execution_count": 9,
   "id": "cb4cc3b2-aef7-4d8d-9540-f72b74bbb9d3",
   "metadata": {
    "execution": {
     "iopub.execute_input": "2025-08-15T21:29:40.441144Z",
     "iopub.status.busy": "2025-08-15T21:29:40.440746Z",
     "iopub.status.idle": "2025-08-15T21:29:55.471968Z",
     "shell.execute_reply": "2025-08-15T21:29:55.471430Z",
     "shell.execute_reply.started": "2025-08-15T21:29:40.441123Z"
    }
   },
   "outputs": [
    {
     "data": {
      "text/html": [
       "<pre style=\"white-space:pre;overflow-x:auto;line-height:normal;font-family:Menlo,'DejaVu Sans Mono',consolas,'Courier New',monospace\">Manim Community <span style=\"color: #008000; text-decoration-color: #008000\">v0.19.0</span>\n",
       "\n",
       "</pre>\n"
      ],
      "text/plain": [
       "Manim Community \u001b[32mv0.\u001b[0m\u001b[32m19.0\u001b[0m\n",
       "\n"
      ]
     },
     "metadata": {},
     "output_type": "display_data"
    },
    {
     "name": "stderr",
     "output_type": "stream",
     "text": [
      "                                                                                            "
     ]
    },
    {
     "data": {
      "text/html": [
       "<video src=\"media/jupyter/generate@2025-08-15@21-29-55.mp4\" controls autoplay loop style=\"max-width: 60%;\"  >\n",
       "      Your browser does not support the <code>video</code> element.\n",
       "    </video>"
      ],
      "text/plain": [
       "<IPython.core.display.Video object>"
      ]
     },
     "metadata": {},
     "output_type": "display_data"
    }
   ],
   "source": [
    "%%manim -ql -v WARNING generate\n",
    "\n",
    "class generate(Scene):\n",
    "    def construct(self):\n",
    "        self.camera.background_color = BLACK\n",
    "\n",
    "        #nn output dropout\n",
    "        dic = { \"matrix\":  {\"values\": output_dropout_3[0]            , \"scale\": 0.3, \"color\": WHITE},\n",
    "                \"title\":   {\"string\": \"\\\\text{Neural Network Output}\" , \"scale\": 0.3, \"color\": WHITE},\n",
    "                \"label_x\": {\"string\": \"Embedding Dimensions\"          , \"scale\": 0.3, \"color\": WHITE, \"value\": d_model},\n",
    "                \"label_y\": {\"string\": \"Tokens\"                        , \"scale\": 0.3, \"color\": WHITE, \"value\": len(input_x)}\n",
    "              }\n",
    "        group_1 = build_matrix(self,dic,f=True)\n",
    "        group_1.to_edge(LEFT*3 + UP*6, buff=0.4)\n",
    "        self.play(Write(group_1))\n",
    "\n",
    "\n",
    "        #arrow\n",
    "        arrow = MathTex(r\"\\longrightarrow\", color=WHITE).scale(1).move_to(group_1[0].get_center()  + RIGHT * 2)  \n",
    "        label = Text(f\"Residual Add\").scale(0.15).set_color(WHITE).next_to(arrow, UP, buff=0.1)\n",
    "        self.play(Write(arrow), Write(label))\n",
    "\n",
    "        #plus\n",
    "        plus = MathTex(r\"+\", color=WHITE).scale(1).move_to(group_1[0].get_center() + RIGHT * 3)\n",
    "        self.play(Write(plus))\n",
    "\n",
    "\n",
    "        #nn input dropout\n",
    "        dic = { \"matrix\":  {\"values\": residual_output_2[0]               , \"scale\": 0.3, \"color\": WHITE},\n",
    "                \"title\":   {\"string\": \"\\\\text{Neural Network Input}\"     , \"scale\": 0.3, \"color\": WHITE},\n",
    "                \"label_x\": {\"string\": \"Embedding Dimensions\"             , \"scale\": 0.3, \"color\": WHITE, \"value\": d_model},\n",
    "                \"label_y\": {\"string\": \"Tokens\"                           ,  \"scale\": 0.3, \"color\": WHITE, \"value\": len(input_x)}\n",
    "              }\n",
    "        group_2 = build_matrix(self,dic,f=True)\n",
    "        group_2.next_to(plus, RIGHT, buff=0.5).align_to(group_1, DOWN) \n",
    "        self.play(Write(group_2))\n",
    "\n",
    "\n",
    "        #equal\n",
    "        equal = MathTex(r\"=\", color=WHITE).scale(0.5).move_to(group_2[0].get_center()  + RIGHT*1.8) \n",
    "        self.play(Write(equal))\n",
    "\n",
    "\n",
    "        #encoder output\n",
    "        dic = { \"matrix\":  {\"values\": residual_output_3[0]                      , \"scale\": 0.3, \"color\": WHITE},\n",
    "                \"title\":   {\"string\": \"\\\\text{Final Neural Network Output}\"               , \"scale\": 0.3, \"color\": WHITE},\n",
    "                \"label_x\": {\"string\": \"Embedding Dimensions\"                 , \"scale\": 0.3, \"color\": WHITE, \"value\": d_model},\n",
    "                \"label_y\": {\"string\": \"Tokens\"                               , \"scale\": 0.3, \"color\": WHITE, \"value\": len(input_x)}\n",
    "              }\n",
    "        group_3 = build_matrix(self,dic,f=True)\n",
    "        group_3.next_to(equal, RIGHT, buff=0.5).align_to(group_1, DOWN) \n",
    "        self.play(Write(group_3))\n",
    "\n",
    "        self.wait(60)\n",
    "\n"
   ]
  },
  {
   "cell_type": "code",
   "execution_count": null,
   "id": "a3d7e75e-3b9d-4586-a4aa-d1f25e8dd9bc",
   "metadata": {},
   "outputs": [],
   "source": [
    "%%manim -ql -v WARNING generate\n",
    "\n",
    "class generate(Scene):\n",
    "    def construct(self):\n",
    "        self.camera.background_color = BLACK\n",
    "\n",
    "        formula = MathTex(r\"\\text{Normalization(x)} = \\alpha \\cdot \\frac{x - \\mu}{\\sigma + \\varepsilon} + \\text{bias}\",\n",
    "                          color=WHITE).scale(0.7).to_edge(UP + LEFT)\n",
    "        \n",
    "\n",
    "        explanation = MathTex(r\"\\text{where:} \\quad \\varepsilon = 10^{-6}\",\n",
    "                              color=WHITE).scale(0.6).next_to(formula, RIGHT, buff= 5.5)\n",
    "\n",
    "        self.play(Write(formula))\n",
    "        self.play(Write(explanation))\n",
    "       \n",
    "\n",
    "        #tEncoder Output\n",
    "        dic = { \"matrix\":  {\"values\": residual_output_3[0]      ,\"scale\": 0.35, \"color\": WHITE},\n",
    "                \"title\":   {\"string\": \"\\\\text{Decoder Output}\"  , \"scale\": 0.35, \"color\": WHITE},\n",
    "                \"label_x\": {\"string\": \"Embedding Dimensions\"    , \"scale\": 0.35, \"color\": WHITE, \"value\": d_model},\n",
    "                \"label_y\": {\"string\": \"Tokens\"                  , \"scale\": 0.35, \"color\": WHITE, \"value\": len(input_x)}\n",
    "              }\n",
    "        group_1 = build_matrix(self,dic,f=True)\n",
    "        group_1.to_edge(LEFT*0.2 + UP*7, buff=0.4)\n",
    "        self.play(Write(group_1))\n",
    "\n",
    "\n",
    "        #arrow\n",
    "        arrow = MathTex(r\"\\longrightarrow\", color=WHITE).scale(0.6).move_to(group_1[0].get_center()  + RIGHT*2.1)  \n",
    "        label = Text(\"Normalize\").scale(0.15).set_color(WHITE).next_to(arrow, UP, buff=0.1)\n",
    "        self.play(Write(arrow), Write(label))\n",
    "        \n",
    "        target = arrow.get_center()\n",
    "  \n",
    "        animations = []\n",
    "        norm_matrix = []\n",
    "        for r, row_mobj in enumerate(group_1[0].get_rows()):\n",
    "            row_vals = np.array([float(el.get_tex_string()) for el in row_mobj])\n",
    "            row_vals = np.array(row_vals, dtype=np.float64)\n",
    "            row = VGroup(*row_mobj).copy().set_color(BLACK).move_to(target + RIGHT*1.5)\n",
    "\n",
    "            mean_val = np.mean(row_vals,dtype=np.float64)\n",
    "            num_str = \" + \".join([f\"{x:.4f}\" for x in row_vals])\n",
    "            mean_calc = MathTex(r\"\\mu = \\frac{\" + num_str + \"}{\" + str(len(row_vals)) + \"} = \" + f\"{mean_val:.4f}\", color=PURE_RED)\n",
    "            mean_calc.scale(0.4).next_to(target, RIGHT + UP*3, buff=0.4)\n",
    "\n",
    "\n",
    "            std_val = np.std(row_vals, ddof=1, dtype=np.float64)  \n",
    "            diff_squares = [(x - mean_val)**2 for x in row_vals]\n",
    "            diff_squares_str = \" + \".join([f\"({x:.4f} - {mean_val:.4f})^2\" for x in row_vals])\n",
    "        \n",
    "            std_calc = MathTex(r\"\\sigma = \\sqrt{\\frac{\" + diff_squares_str + r\"}{\" + str(len(row_vals)) + r\"-1}}\" + \" = \" + f\"{std_val:.4f}\",color=PURE_GREEN)\n",
    "            std_calc.scale(0.4).next_to(target, RIGHT + DOWN*0.5, buff=0.4)\n",
    "       \n",
    "\n",
    "            anim_elements = [mean_calc , std_calc]\n",
    "            group = VGroup(*anim_elements)\n",
    "            self.play(Write(group))\n",
    "\n",
    "\n",
    "            E = 0.000001\n",
    "            norm_row = []\n",
    "            for i, x in enumerate(row_vals):                \n",
    "                norm_val = (x - mean_val) / (std_val + E) \n",
    "                norm_expr = MathTex( r\"\\text{Norm}(x_{\" + str(i+1) + r\"}) = \" +f\"\\\\frac{{{x:.4f} - {mean_val:.4f}}}{{{std_val:.4f} + {E}}}  = {norm_val:.4f}\",color=WHITE)\n",
    "                norm_expr.scale(0.4).next_to(target, RIGHT + DOWN*5, buff=0.4)            \n",
    "                sub_group = VGroup(norm_expr)\n",
    "                self.play(Write(sub_group))\n",
    "                self.play(FadeOut(sub_group, run_time=3))\n",
    "\n",
    "                norm_row.append(float(norm_val))\n",
    "\n",
    "            norm_matrix.append(norm_row)\n",
    "    \n",
    "            self.play(FadeOut(group))\n",
    "\n",
    "\n",
    "        #partial norm\n",
    "        dic = { \"matrix\":  {\"values\": norm_matrix                          ,\"scale\": 0.35, \"color\": WHITE},\n",
    "                \"title\":   {\"string\": \"\\\\text{Partial Normalization}\"     , \"scale\": 0.35, \"color\": WHITE},\n",
    "                \"label_x\": {\"string\": \"Embedding Dimensions\"               , \"scale\": 0.35, \"color\": WHITE, \"value\": d_model},\n",
    "                \"label_y\": {\"string\": \"Tokens\"                             , \"scale\": 0.35, \"color\": WHITE, \"value\": len(input_x)}\n",
    "              }\n",
    "        group_2 = build_matrix(self,dic,f=True)\n",
    "        group_2.next_to(group_1,RIGHT*3.3, buff=0.4)\n",
    "        self.play(Write(group_2))\n",
    "\n",
    "\n",
    "\n",
    "        #multiple\n",
    "        times = MathTex(r\"\\times\", color=WHITE).scale(0.7).next_to(group_2[0], UP, buff=0.7)\n",
    "        self.play(Write(times))\n",
    "\n",
    "\n",
    "        #Alpha\n",
    "        formatted_vector = [[f\"{num:.4f}\" for num in alpha_3]]\n",
    "        vector = Matrix(formatted_vector, h_buff=2).scale(0.35).set_color(YELLOW).next_to(times, UP, buff=0.2)\n",
    "        label_vector = Tex(\"Alpha\", color=YELLOW).scale(0.35).next_to(vector, UP*0.5)\n",
    "        self.play(Write(vector), Write(label_vector))\n",
    "\n",
    "\n",
    "\n",
    "        #plus\n",
    "        plus = MathTex(r\"+\", color=WHITE).scale(0.6).next_to(group_2[0], DOWN, buff=0.7)\n",
    "        self.play(Write(plus))\n",
    "\n",
    "\n",
    "        #Bias\n",
    "        formatted_vector = [[f\"{num:.4f}\" for num in bias_3]]\n",
    "        vector = Matrix(formatted_vector, h_buff=2).scale(0.35).set_color(YELLOW).next_to(plus, DOWN, buff=0.5)\n",
    "        label_vector = Tex(\"Bias\", color=YELLOW).scale(0.35).next_to(vector, UP*0.5)\n",
    "        self.play(Write(vector), Write(label_vector))\n",
    "\n",
    "\n",
    "        #arrow\n",
    "        arrow = MathTex(r\"\\longrightarrow\", color=WHITE).scale(0.6).move_to(group_2[0].get_center()  + RIGHT*2.1)  \n",
    "        label = Text(\"Normalize\").scale(0.15).set_color(WHITE).next_to(arrow, UP, buff=0.1)\n",
    "        self.play(Write(arrow), Write(label))\n",
    "\n",
    "\n",
    "\n",
    "        #final input\n",
    "        dic = { \"matrix\":  {\"values\": normalized_3[0]                      ,\"scale\": 0.35, \"color\": WHITE},\n",
    "                \"title\":   {\"string\": \"\\\\text{Normalized Encoder Output}\"     , \"scale\": 0.35, \"color\": WHITE},\n",
    "                \"label_x\": {\"string\": \"Embedding Dimensions\"               , \"scale\": 0.35, \"color\": WHITE, \"value\": d_model},\n",
    "                \"label_y\": {\"string\": \"Tokens\"                             , \"scale\": 0.35, \"color\": WHITE, \"value\": len(input_x)}\n",
    "              }\n",
    "        group_3 = build_matrix(self,dic,f=True)\n",
    "        group_3.next_to(group_2,RIGHT*3.3, buff=0.4)\n",
    "        self.play(Write(group_3))\n",
    "\n",
    "      \n",
    "\n",
    "        self.wait(60)"
   ]
  },
  {
   "cell_type": "code",
   "execution_count": 5,
   "id": "220afd81-648c-4688-9270-de8caa379648",
   "metadata": {
    "execution": {
     "iopub.execute_input": "2025-08-15T21:07:57.519135Z",
     "iopub.status.busy": "2025-08-15T21:07:57.518810Z",
     "iopub.status.idle": "2025-08-15T21:07:57.522585Z",
     "shell.execute_reply": "2025-08-15T21:07:57.522104Z",
     "shell.execute_reply.started": "2025-08-15T21:07:57.519113Z"
    }
   },
   "outputs": [
    {
     "name": "stdout",
     "output_type": "stream",
     "text": [
      "1.428742570043208\n"
     ]
    }
   ],
   "source": [
    "import numpy as np\n",
    "\n",
    "v1 = np.array(nn_first_dropout[0][0])\n",
    "v2 = np.array(nn_weights_2[1])\n",
    "\n",
    "dot = np.dot(v1, v2)\n",
    "print(dot)"
   ]
  }
 ],
 "metadata": {
  "kernelspec": {
   "display_name": "Python 3 (ipykernel)",
   "language": "python",
   "name": "python3"
  },
  "language_info": {
   "codemirror_mode": {
    "name": "ipython",
    "version": 3
   },
   "file_extension": ".py",
   "mimetype": "text/x-python",
   "name": "python",
   "nbconvert_exporter": "python",
   "pygments_lexer": "ipython3",
   "version": "3.12.9"
  }
 },
 "nbformat": 4,
 "nbformat_minor": 5
}
