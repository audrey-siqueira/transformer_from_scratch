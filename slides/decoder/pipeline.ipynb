{
 "cells": [
  {
   "cell_type": "code",
   "execution_count": 1,
   "id": "ab535708-10c6-44cb-97b5-09d2d796c809",
   "metadata": {
    "execution": {
     "iopub.execute_input": "2025-08-14T22:46:08.437060Z",
     "iopub.status.busy": "2025-08-14T22:46:08.436766Z",
     "iopub.status.idle": "2025-08-14T22:46:09.296965Z",
     "shell.execute_reply": "2025-08-14T22:46:09.296429Z",
     "shell.execute_reply.started": "2025-08-14T22:46:08.437040Z"
    }
   },
   "outputs": [
    {
     "name": "stderr",
     "output_type": "stream",
     "text": [
      "/opt/conda/lib/python3.12/site-packages/pydub/utils.py:170: RuntimeWarning: Couldn't find ffmpeg or avconv - defaulting to ffmpeg, but may not work\n",
      "  warn(\"Couldn't find ffmpeg or avconv - defaulting to ffmpeg, but may not work\", RuntimeWarning)\n"
     ]
    }
   ],
   "source": [
    "from manim import *\n",
    "import math\n",
    "from variables import *\n",
    "\n",
    "import sys\n",
    "sys.path.append(\"..\") \n",
    "from manim_functions import *"
   ]
  },
  {
   "cell_type": "code",
   "execution_count": 17,
   "id": "220afd81-648c-4688-9270-de8caa379648",
   "metadata": {
    "execution": {
     "iopub.execute_input": "2025-08-13T23:58:26.667995Z",
     "iopub.status.busy": "2025-08-13T23:58:26.667676Z",
     "iopub.status.idle": "2025-08-13T23:58:26.671612Z",
     "shell.execute_reply": "2025-08-13T23:58:26.671042Z",
     "shell.execute_reply.started": "2025-08-13T23:58:26.667974Z"
    }
   },
   "outputs": [
    {
     "name": "stdout",
     "output_type": "stream",
     "text": [
      "0.385832222167819\n"
     ]
    }
   ],
   "source": [
    "import numpy as np\n",
    "\n",
    "v1 = np.array(AV_cont[0][0])\n",
    "v2 = np.array(w_o[3])\n",
    "\n",
    "dot = np.dot(v1, v2)\n",
    "print(dot)"
   ]
  }
 ],
 "metadata": {
  "kernelspec": {
   "display_name": "Python 3 (ipykernel)",
   "language": "python",
   "name": "python3"
  },
  "language_info": {
   "codemirror_mode": {
    "name": "ipython",
    "version": 3
   },
   "file_extension": ".py",
   "mimetype": "text/x-python",
   "name": "python",
   "nbconvert_exporter": "python",
   "pygments_lexer": "ipython3",
   "version": "3.12.9"
  }
 },
 "nbformat": 4,
 "nbformat_minor": 5
}
