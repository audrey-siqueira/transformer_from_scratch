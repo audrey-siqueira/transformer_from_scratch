{
 "cells": [
  {
   "cell_type": "code",
   "execution_count": 1,
   "id": "ab535708-10c6-44cb-97b5-09d2d796c809",
   "metadata": {
    "execution": {
     "iopub.execute_input": "2025-08-18T23:01:34.847227Z",
     "iopub.status.busy": "2025-08-18T23:01:34.846873Z",
     "iopub.status.idle": "2025-08-18T23:01:35.779993Z",
     "shell.execute_reply": "2025-08-18T23:01:35.779452Z",
     "shell.execute_reply.started": "2025-08-18T23:01:34.847207Z"
    }
   },
   "outputs": [
    {
     "name": "stderr",
     "output_type": "stream",
     "text": [
      "/opt/conda/lib/python3.12/site-packages/pydub/utils.py:170: RuntimeWarning: Couldn't find ffmpeg or avconv - defaulting to ffmpeg, but may not work\n",
      "  warn(\"Couldn't find ffmpeg or avconv - defaulting to ffmpeg, but may not work\", RuntimeWarning)\n"
     ]
    }
   ],
   "source": [
    "from manim import *\n",
    "import math\n",
    "from variables import *\n",
    "\n",
    "import sys\n",
    "sys.path.append(\"..\") \n",
    "from manim_functions import *"
   ]
  },
  {
   "cell_type": "code",
   "execution_count": 2,
   "id": "a3d7e75e-3b9d-4586-a4aa-d1f25e8dd9bc",
   "metadata": {
    "execution": {
     "iopub.execute_input": "2025-08-18T16:34:46.438999Z",
     "iopub.status.busy": "2025-08-18T16:34:46.438541Z",
     "iopub.status.idle": "2025-08-18T16:36:57.779320Z",
     "shell.execute_reply": "2025-08-18T16:36:57.778805Z",
     "shell.execute_reply.started": "2025-08-18T16:34:46.438976Z"
    }
   },
   "outputs": [
    {
     "data": {
      "text/html": [
       "<pre style=\"white-space:pre;overflow-x:auto;line-height:normal;font-family:Menlo,'DejaVu Sans Mono',consolas,'Courier New',monospace\">Manim Community <span style=\"color: #008000; text-decoration-color: #008000\">v0.19.0</span>\n",
       "\n",
       "</pre>\n"
      ],
      "text/plain": [
       "Manim Community \u001b[32mv0.\u001b[0m\u001b[32m19.0\u001b[0m\n",
       "\n"
      ]
     },
     "metadata": {},
     "output_type": "display_data"
    },
    {
     "name": "stderr",
     "output_type": "stream",
     "text": [
      "                                                                                                                                                                                  "
     ]
    },
    {
     "data": {
      "text/html": [
       "<video src=\"media/jupyter/generate@2025-08-18@16-36-57.mp4\" controls autoplay loop style=\"max-width: 60%;\"  >\n",
       "      Your browser does not support the <code>video</code> element.\n",
       "    </video>"
      ],
      "text/plain": [
       "<IPython.core.display.Video object>"
      ]
     },
     "metadata": {},
     "output_type": "display_data"
    }
   ],
   "source": [
    "%%manim -ql -v WARNING generate\n",
    "\n",
    "class generate(Scene):\n",
    "    def construct(self):\n",
    "        self.camera.background_color = BLACK\n",
    "\n",
    "        formula = MathTex(r\"\\text{Normalization(x)} = \\alpha \\cdot \\frac{x - \\mu}{\\sigma + \\varepsilon} + \\text{bias}\",\n",
    "                          color=WHITE).scale(0.7).to_edge(UP + LEFT)\n",
    "        \n",
    "\n",
    "        explanation = MathTex(r\"\\text{where:} \\quad \\varepsilon = 10^{-6}\",\n",
    "                              color=WHITE).scale(0.6).next_to(formula, RIGHT, buff= 5.5)\n",
    "\n",
    "        self.play(Write(formula))\n",
    "        self.play(Write(explanation))\n",
    "       \n",
    "\n",
    "        #tEncoder Output\n",
    "        dic = { \"matrix\":  {\"values\": residual_output_3[0]      ,\"scale\": 0.35, \"color\": WHITE},\n",
    "                \"title\":   {\"string\": \"\\\\text{Decoder Output}\"  , \"scale\": 0.35, \"color\": WHITE},\n",
    "                \"label_x\": {\"string\": \"Embedding Dimensions\"    , \"scale\": 0.35, \"color\": WHITE, \"value\": d_model},\n",
    "                \"label_y\": {\"string\": \"Tokens\"                  , \"scale\": 0.35, \"color\": WHITE, \"value\": len(input_x)}\n",
    "              }\n",
    "        group_1 = build_matrix(self,dic,f=True)\n",
    "        group_1.to_edge(LEFT*0.2 + UP*7, buff=0.4)\n",
    "        self.play(Write(group_1))\n",
    "\n",
    "\n",
    "        #arrow\n",
    "        arrow = MathTex(r\"\\longrightarrow\", color=WHITE).scale(0.6).move_to(group_1[0].get_center()  + RIGHT*2.1)  \n",
    "        label = Text(\"Normalize\").scale(0.15).set_color(WHITE).next_to(arrow, UP, buff=0.1)\n",
    "        self.play(Write(arrow), Write(label))\n",
    "        \n",
    "        target = arrow.get_center()\n",
    "  \n",
    "        animations = []\n",
    "        norm_matrix = []\n",
    "        for r, row_mobj in enumerate(group_1[0].get_rows()):\n",
    "            row_vals = np.array([float(el.get_tex_string()) for el in row_mobj])\n",
    "            row_vals = np.array(row_vals, dtype=np.float64)\n",
    "            row = VGroup(*row_mobj).copy().set_color(BLACK).move_to(target + RIGHT*1.5)\n",
    "\n",
    "            mean_val = np.mean(row_vals,dtype=np.float64)\n",
    "            num_str = \" + \".join([f\"{x:.4f}\" for x in row_vals])\n",
    "            mean_calc = MathTex(r\"\\mu = \\frac{\" + num_str + \"}{\" + str(len(row_vals)) + \"} = \" + f\"{mean_val:.4f}\", color=PURE_RED)\n",
    "            mean_calc.scale(0.4).next_to(target, RIGHT + UP*3, buff=0.4)\n",
    "\n",
    "\n",
    "            std_val = np.std(row_vals, ddof=1, dtype=np.float64)  \n",
    "            diff_squares = [(x - mean_val)**2 for x in row_vals]\n",
    "            diff_squares_str = \" + \".join([f\"({x:.4f} - {mean_val:.4f})^2\" for x in row_vals])\n",
    "        \n",
    "            std_calc = MathTex(r\"\\sigma = \\sqrt{\\frac{\" + diff_squares_str + r\"}{\" + str(len(row_vals)) + r\"-1}}\" + \" = \" + f\"{std_val:.4f}\",color=PURE_GREEN)\n",
    "            std_calc.scale(0.4).next_to(target, RIGHT + DOWN*0.5, buff=0.4)\n",
    "       \n",
    "\n",
    "            anim_elements = [mean_calc , std_calc]\n",
    "            group = VGroup(*anim_elements)\n",
    "            self.play(Write(group))\n",
    "\n",
    "\n",
    "            E = 0.000001\n",
    "            norm_row = []\n",
    "            for i, x in enumerate(row_vals):                \n",
    "                norm_val = (x - mean_val) / (std_val + E) \n",
    "                norm_expr = MathTex( r\"\\text{Norm}(x_{\" + str(i+1) + r\"}) = \" +f\"\\\\frac{{{x:.4f} - {mean_val:.4f}}}{{{std_val:.4f} + {E}}}  = {norm_val:.4f}\",color=WHITE)\n",
    "                norm_expr.scale(0.4).next_to(target, RIGHT + DOWN*5, buff=0.4)            \n",
    "                sub_group = VGroup(norm_expr)\n",
    "                self.play(Write(sub_group))\n",
    "                self.play(FadeOut(sub_group, run_time=3))\n",
    "\n",
    "                norm_row.append(float(norm_val))\n",
    "\n",
    "            norm_matrix.append(norm_row)\n",
    "    \n",
    "            self.play(FadeOut(group))\n",
    "\n",
    "\n",
    "        #partial norm\n",
    "        dic = { \"matrix\":  {\"values\": norm_matrix                          ,\"scale\": 0.35, \"color\": WHITE},\n",
    "                \"title\":   {\"string\": \"\\\\text{Partial Normalization}\"     , \"scale\": 0.35, \"color\": WHITE},\n",
    "                \"label_x\": {\"string\": \"Embedding Dimensions\"               , \"scale\": 0.35, \"color\": WHITE, \"value\": d_model},\n",
    "                \"label_y\": {\"string\": \"Tokens\"                             , \"scale\": 0.35, \"color\": WHITE, \"value\": len(input_x)}\n",
    "              }\n",
    "        group_2 = build_matrix(self,dic,f=True)\n",
    "        group_2.next_to(group_1,RIGHT*3.3, buff=0.4)\n",
    "        self.play(Write(group_2))\n",
    "\n",
    "\n",
    "\n",
    "        #multiple\n",
    "        times = MathTex(r\"\\times\", color=WHITE).scale(0.7).next_to(group_2[0], UP, buff=0.7)\n",
    "        self.play(Write(times))\n",
    "\n",
    "\n",
    "        #Alpha\n",
    "        formatted_vector = [[f\"{num:.4f}\" for num in alpha_4]]\n",
    "        vector = Matrix(formatted_vector, h_buff=2).scale(0.35).set_color(YELLOW).next_to(times, UP, buff=0.2)\n",
    "        label_vector = Tex(\"Alpha\", color=YELLOW).scale(0.35).next_to(vector, UP*0.5)\n",
    "        self.play(Write(vector), Write(label_vector))\n",
    "\n",
    "\n",
    "\n",
    "        #plus\n",
    "        plus = MathTex(r\"+\", color=WHITE).scale(0.6).next_to(group_2[0], DOWN, buff=0.7)\n",
    "        self.play(Write(plus))\n",
    "\n",
    "\n",
    "        #Bias\n",
    "        formatted_vector = [[f\"{num:.4f}\" for num in bias_4]]\n",
    "        vector = Matrix(formatted_vector, h_buff=2).scale(0.35).set_color(YELLOW).next_to(plus, DOWN, buff=0.5)\n",
    "        label_vector = Tex(\"Bias\", color=YELLOW).scale(0.35).next_to(vector, UP*0.5)\n",
    "        self.play(Write(vector), Write(label_vector))\n",
    "\n",
    "\n",
    "        #arrow\n",
    "        arrow = MathTex(r\"\\longrightarrow\", color=WHITE).scale(0.6).move_to(group_2[0].get_center()  + RIGHT*2.1)  \n",
    "        label = Text(\"Normalize\").scale(0.15).set_color(WHITE).next_to(arrow, UP, buff=0.1)\n",
    "        self.play(Write(arrow), Write(label))\n",
    "\n",
    "\n",
    "\n",
    "        #final input\n",
    "        dic = { \"matrix\":  {\"values\": normalized_4[0]                      ,\"scale\": 0.35, \"color\": WHITE},\n",
    "                \"title\":   {\"string\": \"\\\\text{Normalized Decoder Output}\"     , \"scale\": 0.35, \"color\": WHITE},\n",
    "                \"label_x\": {\"string\": \"Embedding Dimensions\"               , \"scale\": 0.35, \"color\": WHITE, \"value\": d_model},\n",
    "                \"label_y\": {\"string\": \"Tokens\"                             , \"scale\": 0.35, \"color\": WHITE, \"value\": len(input_x)}\n",
    "              }\n",
    "        group_3 = build_matrix(self,dic,f=True)\n",
    "        group_3.next_to(group_2,RIGHT*3.3, buff=0.4)\n",
    "        self.play(Write(group_3))\n",
    "\n",
    "      \n",
    "\n",
    "        self.wait(60)"
   ]
  },
  {
   "cell_type": "code",
   "execution_count": 2,
   "id": "2da9c5bd-0ad6-441d-8091-b054203e433f",
   "metadata": {
    "execution": {
     "iopub.execute_input": "2025-08-18T17:49:43.238981Z",
     "iopub.status.busy": "2025-08-18T17:49:43.238685Z",
     "iopub.status.idle": "2025-08-18T17:50:06.462111Z",
     "shell.execute_reply": "2025-08-18T17:50:06.461592Z",
     "shell.execute_reply.started": "2025-08-18T17:49:43.238961Z"
    }
   },
   "outputs": [
    {
     "data": {
      "text/html": [
       "<pre style=\"white-space:pre;overflow-x:auto;line-height:normal;font-family:Menlo,'DejaVu Sans Mono',consolas,'Courier New',monospace\">Manim Community <span style=\"color: #008000; text-decoration-color: #008000\">v0.19.0</span>\n",
       "\n",
       "</pre>\n"
      ],
      "text/plain": [
       "Manim Community \u001b[32mv0.\u001b[0m\u001b[32m19.0\u001b[0m\n",
       "\n"
      ]
     },
     "metadata": {},
     "output_type": "display_data"
    },
    {
     "name": "stderr",
     "output_type": "stream",
     "text": [
      "                                                                                            "
     ]
    },
    {
     "data": {
      "text/html": [
       "<video src=\"media/jupyter/generate@2025-08-18@17-50-06.mp4\" controls autoplay loop style=\"max-width: 60%;\"  >\n",
       "      Your browser does not support the <code>video</code> element.\n",
       "    </video>"
      ],
      "text/plain": [
       "<IPython.core.display.Video object>"
      ]
     },
     "metadata": {},
     "output_type": "display_data"
    }
   ],
   "source": [
    "%%manim -ql -v WARNING generate\n",
    "\n",
    "class generate(Scene):\n",
    "    def construct(self):\n",
    "        self.camera.background_color = BLACK\n",
    "\n",
    "        #final input\n",
    "        dic = { \"matrix\":  {\"values\": normalized_4[0]                 ,\"scale\": 0.3, \"color\": WHITE},\n",
    "                \"title\":   {\"string\": \"\\\\text{Normalized Decoder Output}\"   , \"scale\": 0.3, \"color\": WHITE},\n",
    "                \"label_x\": {\"string\": \"Embedding Dimensions\"           , \"scale\": 0.3, \"color\": WHITE, \"value\": d_model},\n",
    "                \"label_y\": {\"string\": \"Tokens\"                         , \"scale\": 0.3, \"color\": WHITE, \"value\": len(input_x)}\n",
    "              }\n",
    "        group_1 = build_matrix(self,dic,f=True)\n",
    "        group_1.to_edge(LEFT*0.5 + UP*4, buff=0.4)\n",
    "        self.play(Write(group_1))\n",
    "        \n",
    "        #multiple\n",
    "        times = MathTex(r\"\\times\", color=WHITE).scale(0.5).next_to(group_1[0], buff=0.2) \n",
    "        self.play(Write(times))\n",
    "\n",
    "        \n",
    "        #NN Weights 1\n",
    "        dic = { \"matrix\":  {\"values\": proj_weights                 , \"scale\": 0.3, \"color\": YELLOW},\n",
    "                \"title\":   {\"string\": \"\\\\text{Weights (Projection Layer)}\"  , \"scale\": 0.3, \"color\": YELLOW},\n",
    "                \"label_x\": {\"string\": \"Embedding Dimensions\"       , \"scale\": 0.3, \"color\": YELLOW, \"value\": d_model},\n",
    "                \"label_y\": {\"string\": \"Number of Neurons\"          , \"scale\": 0.3, \"color\": YELLOW, \"value\": proj_vocab_size}\n",
    "              }\n",
    "\n",
    "        vals = ellipsis_rows(proj_weights, head=3, tail=3, dots=2)\n",
    "        dic_disp = {**dic, \"matrix\": {**dic[\"matrix\"], \"values\": vals}}\n",
    "\n",
    "        group_2 = build_matrix(self, dic_disp, f=True)\n",
    "        group_2.next_to(times, RIGHT, buff=0.3).align_to(group_1, UP)\n",
    "        \n",
    "        left  = Brace(group_2[0], direction=LEFT,  buff=0.35, color=WHITE)\n",
    "        right = Brace(group_2[0], direction=RIGHT, buff=0.2,  color=WHITE)\n",
    "        trans = Tex(\"T\", color=WHITE).scale(0.5).next_to(right, UP + RIGHT, buff=0.05)\n",
    "        group_2.add(left, right, trans)\n",
    "        self.play(Write(group_2))\n",
    "\n",
    "        \n",
    "        #NN Bias 1\n",
    "        dic = { \"matrix\":  {\"values\": [[x] for x in proj_bias]  , \"scale\": 0.3, \"color\": YELLOW},\n",
    "                \"title\":   {\"string\": \"\\\\text{Bias (Layer 1)}\"  , \"scale\": 0.3, \"color\": YELLOW},\n",
    "                \"label_x\": {\"string\": \"\"                        , \"scale\": 0.3, \"color\": YELLOW, \"value\": \"\"},\n",
    "                \"label_y\": {\"string\": \"\"                        , \"scale\": 0.3, \"color\": YELLOW, \"value\": \"\"}\n",
    "              }\n",
    "\n",
    "        vals = ellipsis_rows([[x] for x in proj_bias], head=3, tail=3, dots=2)\n",
    "        dic_disp = {**dic, \"matrix\": {**dic[\"matrix\"], \"values\": vals}}\n",
    "        \n",
    "        group_3 = build_matrix(self,dic_disp,f=True)\n",
    "        group_3.next_to(group_2, RIGHT, buff=0.15).align_to(group_1, UP) \n",
    "        self.play(Write(group_3))\n",
    "\n",
    "        #equal\n",
    "        equal = MathTex(r\"=\", color=WHITE).scale(0.5).move_to(group_3[0].get_center()  + RIGHT*0.6).align_to(times, UP)  \n",
    "        self.play(Write(equal))\n",
    "\n",
    "        #animation\n",
    "        #nn_calculation(self, equal, group_1, WHITE, group_2, YELLOW, group_3, YELLOW, 1.6)\n",
    "\n",
    "   \n",
    "        #first out\n",
    "        dic = { \"matrix\":  {\"values\": proj_output[0]         , \"scale\": 0.3, \"color\": WHITE},\n",
    "                \"title\":   {\"string\": \"\\\\text{Transformer Output Logits}\", \"scale\": 0.3, \"color\": WHITE},\n",
    "                \"label_x\": {\"string\": \"Dimensions\"           , \"scale\": 0.3, \"color\": WHITE, \"value\": proj_vocab_size},\n",
    "                \"label_y\": {\"string\": \"Tokens\"               , \"scale\": 0.3, \"color\": WHITE, \"value\": len(input_x)}\n",
    "                      }\n",
    "        \n",
    "        vals = ellipsis_cols(proj_output[0], left=3, right=3, dots=2, symbol=r\"\\vdots\")\n",
    "        dic_disp = {**dic, \"matrix\": {**dic[\"matrix\"], \"values\": vals}}\n",
    "        \n",
    "        group_4 = build_matrix(self, dic_disp, f=True)   # <- usar dic_disp aqui\n",
    "        group_4.next_to(equal, RIGHT, buff=0.2).align_to(group_1, UP)\n",
    "        self.play(Write(group_4))\n",
    "        \n",
    "        self.wait(60)\n"
   ]
  },
  {
   "cell_type": "code",
   "execution_count": 2,
   "id": "2b90591b-138d-456b-8293-c41ce9b9bc62",
   "metadata": {
    "execution": {
     "iopub.execute_input": "2025-08-18T18:55:39.017562Z",
     "iopub.status.busy": "2025-08-18T18:55:39.017090Z",
     "iopub.status.idle": "2025-08-18T18:55:39.034706Z",
     "shell.execute_reply": "2025-08-18T18:55:39.034239Z",
     "shell.execute_reply.started": "2025-08-18T18:55:39.017536Z"
    }
   },
   "outputs": [
    {
     "data": {
      "text/plain": [
       "array([[942, 461, 461]])"
      ]
     },
     "execution_count": 2,
     "metadata": {},
     "output_type": "execute_result"
    }
   ],
   "source": []
  },
  {
   "cell_type": "code",
   "execution_count": 3,
   "id": "2a712651-141a-46b4-8abd-ab3981af5d30",
   "metadata": {
    "execution": {
     "iopub.execute_input": "2025-08-18T18:55:44.455368Z",
     "iopub.status.busy": "2025-08-18T18:55:44.454816Z",
     "iopub.status.idle": "2025-08-18T18:55:44.459052Z",
     "shell.execute_reply": "2025-08-18T18:55:44.458592Z",
     "shell.execute_reply.started": "2025-08-18T18:55:44.455347Z"
    }
   },
   "outputs": [
    {
     "data": {
      "text/plain": [
       "'som surpresa surpresa'"
      ]
     },
     "execution_count": 3,
     "metadata": {},
     "output_type": "execute_result"
    }
   ],
   "source": []
  },
  {
   "cell_type": "code",
   "execution_count": 4,
   "id": "5abaf710-928b-43e7-9eb3-331dec251b18",
   "metadata": {
    "execution": {
     "iopub.execute_input": "2025-08-18T18:56:44.054361Z",
     "iopub.status.busy": "2025-08-18T18:56:44.054047Z",
     "iopub.status.idle": "2025-08-18T18:56:44.057982Z",
     "shell.execute_reply": "2025-08-18T18:56:44.057540Z",
     "shell.execute_reply.started": "2025-08-18T18:56:44.054341Z"
    }
   },
   "outputs": [
    {
     "data": {
      "text/plain": [
       "[2, 1326, 1]"
      ]
     },
     "execution_count": 4,
     "metadata": {},
     "output_type": "execute_result"
    }
   ],
   "source": [
    "input_x "
   ]
  }
 ],
 "metadata": {
  "kernelspec": {
   "display_name": "Python 3 (ipykernel)",
   "language": "python",
   "name": "python3"
  },
  "language_info": {
   "codemirror_mode": {
    "name": "ipython",
    "version": 3
   },
   "file_extension": ".py",
   "mimetype": "text/x-python",
   "name": "python",
   "nbconvert_exporter": "python",
   "pygments_lexer": "ipython3",
   "version": "3.12.9"
  }
 },
 "nbformat": 4,
 "nbformat_minor": 5
}
