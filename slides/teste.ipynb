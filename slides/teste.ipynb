{
 "cells": [
  {
   "cell_type": "code",
   "execution_count": 1,
   "id": "bafc99f9-35d9-44b7-8373-575cd0c82afb",
   "metadata": {},
   "outputs": [
    {
     "name": "stderr",
     "output_type": "stream",
     "text": [
      "/opt/conda/lib/python3.11/site-packages/pydub/utils.py:170: RuntimeWarning: Couldn't find ffmpeg or avconv - defaulting to ffmpeg, but may not work\n",
      "  warn(\"Couldn't find ffmpeg or avconv - defaulting to ffmpeg, but may not work\", RuntimeWarning)\n"
     ]
    }
   ],
   "source": [
    "from manim import *\n",
    "from manim_functions import *\n",
    "from variables import *\n",
    "import math"
   ]
  },
  {
   "cell_type": "code",
   "execution_count": 2,
   "id": "1ed146b0-729f-4287-a81c-89a59b7f5091",
   "metadata": {},
   "outputs": [
    {
     "data": {
      "text/html": [
       "<pre style=\"white-space:pre;overflow-x:auto;line-height:normal;font-family:Menlo,'DejaVu Sans Mono',consolas,'Courier New',monospace\">Manim Community <span style=\"color: #008000; text-decoration-color: #008000\">v0.19.0</span>\n",
       "\n",
       "</pre>\n"
      ],
      "text/plain": [
       "Manim Community \u001b[32mv0.\u001b[0m\u001b[32m19.0\u001b[0m\n",
       "\n"
      ]
     },
     "metadata": {},
     "output_type": "display_data"
    },
    {
     "name": "stderr",
     "output_type": "stream",
     "text": [
      "                                                                                                                                                          \r"
     ]
    },
    {
     "data": {
      "text/html": [
       "<video src=\"media/jupyter/generate@2025-06-14@02-09-06.mp4\" controls autoplay loop style=\"max-width: 60%;\"  >\n",
       "      Your browser does not support the <code>video</code> element.\n",
       "    </video>"
      ],
      "text/plain": [
       "<IPython.core.display.Video object>"
      ]
     },
     "metadata": {},
     "output_type": "display_data"
    }
   ],
   "source": [
    "%%manim -ql -v WARNING generate\n",
    "\n",
    "class generate(Scene):\n",
    "    def construct(self):\n",
    "        self.camera.background_color = BLACK\n",
    "\n",
    "        #Input Tokens\n",
    "        formatted_vector = [[f\"{num}\" for num in input_x]]\n",
    "        vector = Matrix(formatted_vector).scale(0.35).set_color(WHITE).to_edge(LEFT, buff=0.2)\n",
    "        label_vector = Tex(\"Input Tokens\", color=WHITE).scale(0.45).next_to(vector, UP)\n",
    "        self.play(Write(vector), Write(label_vector))\n",
    "\n",
    "\n",
    "        #arrow\n",
    "        arrow = MathTex(r\"\\longrightarrow\", color=WHITE).scale(1).next_to(vector, RIGHT, buff=0.3)\n",
    "        self.play(Write(arrow))\n",
    "\n",
    "        #Adding ... to embedding map\n",
    "        matrix_lines = []\n",
    "        order = sorted(input_x)\n",
    "        matrix_lines.append(embedding_map[0])\n",
    "        for idx in order:\n",
    "            matrix_lines.append([\"\\\\vdots\"] * d_model)\n",
    "            matrix_lines.append(embedding_map[idx])\n",
    "        matrix_lines.append([\"\\\\vdots\"] * d_model)\n",
    "        matrix_lines.append(embedding_map[-1])\n",
    "        \n",
    "        #Embedding Map\n",
    "        dic = { \"matrix\":  {\"values\": matrix_lines         , \"scale\": 0.35, \"color\": PURE_GREEN},\n",
    "                \"title\":   {\"string\": \"Embedding Map\"       , \"scale\": 0.45, \"color\": PURE_GREEN},\n",
    "                \"label_x\": {\"string\": \"Embedding Dimensions\", \"scale\": 0.35, \"color\": PURE_GREEN, \"value\": d_model },\n",
    "                \"label_y\": {\"string\": \"Embedding Map Size\" , \"scale\": 0.35, \"color\": PURE_GREEN, \"value\": vocab_size}\n",
    "              }\n",
    "        group = build_matrix(self,dic)\n",
    "        \n",
    "        \n",
    "        rows = group[0].get_rows()\n",
    "\n",
    "        #idxs\n",
    "        labels = [0, \"\"]  \n",
    "        for val in order:\n",
    "            labels.append(str(val))\n",
    "            labels.append(\"\")\n",
    "        labels.append(len(embedding_map)-1)\n",
    "        \n",
    "        row_indices = VGroup(*[Tex(str(label), color=PURE_GREEN).scale(0.3).next_to(rows[i], LEFT, buff=0.35)\n",
    "                      for i, label in enumerate(labels)])\n",
    "        group.add(row_indices)\n",
    "        group[3].shift(LEFT*0.3)\n",
    "        \n",
    "        group.next_to(arrow, RIGHT, buff=0.3)\n",
    "        self.play(Write(group))\n",
    "\n",
    "        #white squares\n",
    "        highlights = VGroup()\n",
    "        indices = list(range(2, len(rows), 2))[:5]\n",
    "        for i in indices:\n",
    "            rect = SurroundingRectangle(rows[i], color=WHITE, buff=0.1)\n",
    "            highlights.add(rect)\n",
    "        \n",
    "        self.play(Create(highlights))\n",
    "\n",
    "\n",
    "        #arrow\n",
    "        arrow = MathTex(r\"\\longrightarrow\", color=WHITE).scale(1).next_to(group, RIGHT, buff=0.5).shift(UP * 2.3)\n",
    "        self.play(Write(arrow))\n",
    "\n",
    "\n",
    "        #Embedded\n",
    "        dic = {  \"matrix\":  {\"values\": input_x_embedded      , \"scale\": 0.35, \"color\": WHITE},\n",
    "                 \"title\":   {\"string\": \"Embedding Input\"     , \"scale\": 0.45, \"color\": WHITE},\n",
    "                 \"label_x\": {\"string\": \"Embedding Dimensions\", \"scale\": 0.35, \"color\": WHITE, \"value\": d_model },\n",
    "                 \"label_y\": {\"string\": \"Tokens\"              , \"scale\": 0.35, \"color\": WHITE, \"value\": len(input_x_embedded)}\n",
    "              }\n",
    "        group = build_matrix(self,dic)\n",
    "        group.next_to(arrow, RIGHT, buff=0.5)\n",
    "        self.play(Write(group))\n",
    "\n",
    "\n",
    "        #arrow\n",
    "        arrow = MathTex(r\"\\downarrow\", color=WHITE).scale(1.3).next_to(group, DOWN, buff=0.3).shift(LEFT * 0.8)\n",
    "        self.play(Write(arrow))\n",
    "\n",
    "        #square\n",
    "        sqrt_d_model = MathTex(r\"\\times \\sqrt{\\substack{\\text{Embedding} \\\\ \\text{Dimensions}}} = \" + f\"{math.sqrt(d_model):.0f}\",color=PURE_RED).scale(0.5).next_to(arrow, RIGHT, buff=0.2)\n",
    "        self.play(Write(sqrt_d_model))\n",
    "\n",
    "\n",
    "        #scaled\n",
    "        dic = {  \"matrix\":  {\"values\": input_x_embedded_scaled      , \"scale\": 0.35, \"color\": WHITE},\n",
    "                 \"title\":   {\"string\": \"Scaled Embedding Input\"     , \"scale\": 0.45, \"color\": WHITE},\n",
    "                 \"label_x\": {\"string\": \"Embedding Dimensions\"       , \"scale\": 0.35, \"color\": WHITE, \"value\": d_model },\n",
    "                 \"label_y\": {\"string\": \"Tokens\"                     , \"scale\": 0.35, \"color\": WHITE, \"value\": len(input_x_embedded)}\n",
    "              }\n",
    "        group = build_matrix(self,dic)\n",
    "        group.next_to(arrow, DOWN, buff=0.3).shift(RIGHT * 0.8)\n",
    "        self.play(Write(group))\n",
    "\n",
    "        self.wait(60)\n"
   ]
  },
  {
   "cell_type": "code",
   "execution_count": null,
   "id": "9e189588-b207-4a5c-8176-78316ba7737b",
   "metadata": {},
   "outputs": [],
   "source": []
  }
 ],
 "metadata": {
  "kernelspec": {
   "display_name": "Python 3 (ipykernel)",
   "language": "python",
   "name": "python3"
  },
  "language_info": {
   "codemirror_mode": {
    "name": "ipython",
    "version": 3
   },
   "file_extension": ".py",
   "mimetype": "text/x-python",
   "name": "python",
   "nbconvert_exporter": "python",
   "pygments_lexer": "ipython3",
   "version": "3.11.11"
  }
 },
 "nbformat": 4,
 "nbformat_minor": 5
}
