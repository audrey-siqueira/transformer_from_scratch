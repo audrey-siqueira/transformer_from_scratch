{
 "cells": [
  {
   "cell_type": "code",
   "execution_count": 1,
   "id": "bafc99f9-35d9-44b7-8373-575cd0c82afb",
   "metadata": {},
   "outputs": [
    {
     "name": "stderr",
     "output_type": "stream",
     "text": [
      "/opt/conda/lib/python3.11/site-packages/pydub/utils.py:170: RuntimeWarning: Couldn't find ffmpeg or avconv - defaulting to ffmpeg, but may not work\n",
      "  warn(\"Couldn't find ffmpeg or avconv - defaulting to ffmpeg, but may not work\", RuntimeWarning)\n"
     ]
    }
   ],
   "source": [
    "from manim import *\n",
    "from manim_functions import *\n",
    "from variables import *\n",
    "import math"
   ]
  },
  {
   "cell_type": "code",
   "execution_count": 2,
   "id": "1ed146b0-729f-4287-a81c-89a59b7f5091",
   "metadata": {},
   "outputs": [
    {
     "data": {
      "text/html": [
       "<pre style=\"white-space:pre;overflow-x:auto;line-height:normal;font-family:Menlo,'DejaVu Sans Mono',consolas,'Courier New',monospace\">Manim Community <span style=\"color: #008000; text-decoration-color: #008000\">v0.19.0</span>\n",
       "\n",
       "</pre>\n"
      ],
      "text/plain": [
       "Manim Community \u001b[32mv0.\u001b[0m\u001b[32m19.0\u001b[0m\n",
       "\n"
      ]
     },
     "metadata": {},
     "output_type": "display_data"
    },
    {
     "name": "stderr",
     "output_type": "stream",
     "text": [
      "                                                                                                       \r"
     ]
    },
    {
     "data": {
      "text/html": [
       "<video src=\"media/jupyter/generate@2025-06-17@23-14-46.mp4\" controls autoplay loop style=\"max-width: 60%;\"  >\n",
       "      Your browser does not support the <code>video</code> element.\n",
       "    </video>"
      ],
      "text/plain": [
       "<IPython.core.display.Video object>"
      ]
     },
     "metadata": {},
     "output_type": "display_data"
    }
   ],
   "source": [
    "%%manim -ql -v WARNING generate\n",
    "\n",
    "\n",
    "\n",
    "class generate(Scene):\n",
    "    def construct(self):\n",
    "        self.camera.background_color = BLACK\n",
    "\n",
    "        def split(position,string_1,arg_1,string_2,arg_2,color):\n",
    "\n",
    "            #Query,Key,Value\n",
    "            dic = { \"matrix\":  {\"values\": arg_1[0]                    , \"scale\": 0.25, \"color\": color},\n",
    "                    \"title\":   {\"string\": string_1                    , \"scale\": 0.25, \"color\": color},\n",
    "                    \"label_x\": {\"string\": \"Embedding Dimensions\"      , \"scale\": 0.25, \"color\": color, \"value\": d_model},\n",
    "                    \"label_y\": {\"string\": \"Tokens\"                    , \"scale\": 0.25, \"color\": color, \"value\": len(input_x)}\n",
    "                  }\n",
    "            group = build_matrix(self,dic)\n",
    "            group.to_edge(position, buff=0.3)\n",
    "            self.play(Write(group))\n",
    "\n",
    "\n",
    "            #arrow\n",
    "            arrow = MathTex(r\"\\longrightarrow\", color=WHITE).scale(1).next_to(group, RIGHT, buff=0.8)\n",
    "            label = Text(f\"Head Distribution\").scale(0.2).set_color(WHITE).next_to(arrow, UP, buff=0.1)\n",
    "            self.play(Write(arrow), Write(label))\n",
    "\n",
    "\n",
    "            #h_Query , h_Key, h_Value\n",
    "            dic = { \"matrix\":  {\"values\": arg_2[0][0]                 , \"scale\": 0.25, \"color\": color},\n",
    "                    \"title\":   {\"string\": f\"{string_2} 1\"             , \"scale\": 0.25, \"color\": color},\n",
    "                    \"label_x\": {\"string\": \"Dimensions\"                 , \"scale\": 0.25, \"color\": color, \"value\": d_model//2},\n",
    "                    \"label_y\": {\"string\": \"Tokens\"                    , \"scale\": 0.25, \"color\": color, \"value\": len(input_x)}\n",
    "                  }\n",
    "            head_1 = build_matrix(self,dic)\n",
    "            head_1.next_to(arrow, buff=0.8)\n",
    "            self.play(Write(head_1))\n",
    "\n",
    "            #h_Query , h_Key, h_Value\n",
    "            dic = { \"matrix\":  {\"values\": arg_2[0][1]                 , \"scale\": 0.25, \"color\": color},\n",
    "                    \"title\":   {\"string\": f\"{string_2} 2\"             , \"scale\": 0.25, \"color\": color},\n",
    "                    \"label_x\": {\"string\": \"Dimensions\"                 , \"scale\": 0.25, \"color\": color, \"value\": d_model//2},\n",
    "                    \"label_y\": {\"string\": \"Tokens\"                    , \"scale\": 0.25, \"color\": color, \"value\": len(input_x)}\n",
    "                  }\n",
    "            head_2 = build_matrix(self,dic)\n",
    "            head_2.next_to(head_1, buff=0.5)\n",
    "            self.play(Write(head_2))\n",
    "\n",
    "        split(position   = LEFT + UP ,\n",
    "              string_1   = \"Query\",\n",
    "              arg_1      = query,\n",
    "              string_2   = \"Query head\",\n",
    "              arg_2      = h_query,\n",
    "              color      = BLUE_C)\n",
    "\n",
    "        split(position   = LEFT ,\n",
    "                string_1   = \"Key\",\n",
    "                arg_1      = key,\n",
    "                string_2   = \"Key head\",\n",
    "                arg_2      = h_key,\n",
    "                color      = PURE_RED)\n",
    "\n",
    "        split(position   = LEFT + DOWN ,\n",
    "                string_1   = \"Value\",\n",
    "                arg_1      = value,\n",
    "                string_2   = \"Value head\",\n",
    "                arg_2      = h_value,\n",
    "                color      = PURE_GREEN)\n",
    "\n",
    "\n",
    "\n",
    "        self.wait(60)\n",
    "\n",
    "\n",
    "\n",
    "\n"
   ]
  },
  {
   "cell_type": "code",
   "execution_count": null,
   "id": "b9dd4c04-00b0-4344-a103-ef8887ba01a9",
   "metadata": {},
   "outputs": [],
   "source": []
  }
 ],
 "metadata": {
  "kernelspec": {
   "display_name": "Python 3 (ipykernel)",
   "language": "python",
   "name": "python3"
  },
  "language_info": {
   "codemirror_mode": {
    "name": "ipython",
    "version": 3
   },
   "file_extension": ".py",
   "mimetype": "text/x-python",
   "name": "python",
   "nbconvert_exporter": "python",
   "pygments_lexer": "ipython3",
   "version": "3.11.11"
  }
 },
 "nbformat": 4,
 "nbformat_minor": 5
}
